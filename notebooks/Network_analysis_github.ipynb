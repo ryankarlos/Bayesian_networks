{
 "cells": [
  {
   "cell_type": "code",
   "execution_count": 1,
   "id": "39c97fcc",
   "metadata": {},
   "outputs": [],
   "source": [
    "import pgmpy\n",
    "import pyvis\n",
    "import pandas as pd\n",
    "\n",
    "import networkx as nx\n",
    "import numpy as np\n",
    "from operator import itemgetter, attrgetter\n",
    "from networkx.algorithms import tree, community\n",
    "from networkx.generators.ego import ego_graph\n",
    "import matplotlib.pylab as plt\n",
    "from pyvis.network import Network"
   ]
  },
  {
   "cell_type": "markdown",
   "id": "3e23db70",
   "metadata": {},
   "source": [
    "A large social network of GitHub developers which was collected from the public API in June 2019. Nodes are developers who have starred at least 10 repositories and edges are mutual follower relationships between them. The vertex features are extracted based on the location, repositories starred, employer and e-mail address. The task related to the graph is binary node classification - one has to predict whether the GitHub user is a web or a machine learning developer. This target feature was derived from the job title of each user."
   ]
  },
  {
   "cell_type": "code",
   "execution_count": 2,
   "id": "14f8ad55",
   "metadata": {},
   "outputs": [],
   "source": [
    "# stanford dataset network site https://snap.stanford.edu/data\n",
    "\n",
    "path_edges = \"../data/github_users_network/musae_git_edges.csv\"\n",
    "\n",
    "path_target = \"../data/github_users_network/musae_git_target.csv\"\n",
    "\n",
    "\n",
    "def reader(path_reader, path_target):\n",
    "    df_edges = pd.read_csv(path_edges)\n",
    "    df_target = pd.read_csv(path_target)\n",
    "    return df_edges, df_target\n",
    "\n",
    "def create_network_from_df(df):\n",
    "    df = df.rename(columns={df.columns[0]: 'source', df.columns[1]: 'target'})\n",
    "    Graphtype = nx.Graph()\n",
    "    G = nx.from_pandas_edgelist(df,  create_using=Graphtype)\n",
    "    return G\n",
    "    #print(nx.info(G))\n",
    "    #G.edges\n",
    "    \n",
    "    \n",
    "def get_edge_list(G, sort=True):\n",
    "    if sort:\n",
    "        # sort by node 1\n",
    "        sorted_edges = sorted(G.edges(), key=lambda x: x[0], reverse=True)\n",
    "        return sorted_edges\n",
    "    else:\n",
    "        return list(G.edges())\n",
    "\n",
    "\n",
    "def list_duplicate_edges(G):\n",
    "    dup = list(duplicates(get_edge_list(G)))\n",
    "    if len(dup) > 0:\n",
    "        print(f\"{len(dup)} duplicates found\")\n",
    "    return dup\n",
    "    \n",
    "def remove_nodes_with_low_degree(G, n):\n",
    "    degree_sorted = sorted(G.degree(), key=lambda x: x[1], reverse=True)\n",
    "    #keep top n nodes \n",
    "    node_list_remove = [node for node, v in degree_sorted[n::]]\n",
    "    G.remove_nodes_from(node_list_remove)\n",
    "    return G\n",
    "\n",
    "\n",
    "def draw_network(G, notebook=True, physics=True):\n",
    "    if notebook:\n",
    "        nt = Network('500px', '500px',notebook=True)\n",
    "    else:\n",
    "        nt = Network('500px', '500px')\n",
    "    nt.from_nx(G)\n",
    "    if physics:\n",
    "        nt.show_buttons(filter_=['physics'])\n",
    "    return nt\n",
    "\n",
    "def max_spanning_tree(G, algorithm=\"kruskal\"):\n",
    "    mst = tree.maximum_spanning_edges(G, algorithm=algorithm, data=False)\n",
    "    edge_list = list(mst)\n",
    "    G = nx.Graph()\n",
    "    G.add_edges_from(edge_list)  # using a list of edge tuples\n",
    "    return G\n",
    "    \n",
    "def compute_metrics(G):\n",
    "    degree = dict(G.degree(G.nodes()))\n",
    "    betweenness = nx.betweenness_centrality(G) # Run betweenness centrality\n",
    "    clo_cen = nx.closeness_centrality(G)\n",
    "    # Eigenvector centrality\n",
    "    eig_cen = nx.eigenvector_centrality(G)\n",
    "    return degree, betweenness, clo_cen, eig_cen\n",
    "    \n",
    "    \n",
    "def community_detection(G):\n",
    "    communities = community.greedy_modularity_communities(G)\n",
    "    modularity_dict = {} # Create a blank dictionary\n",
    "    for i,c in enumerate(communities): # Loop through the list of communities, keeping track of the number for the community\n",
    "        for name in c: # Loop through each person in a community\n",
    "            modularity_dict[name] = i # Create an entry in the dictionary for the person, where the value is which group they belong to.\n",
    "\n",
    "    return communities, modularity_dict\n",
    "    \n",
    "    \n",
    "def set_attributes(G, **kwargs):\n",
    "    for key in kwargs.keys(): \n",
    "        nx.set_node_attributes(G, kwargs[key],key)\n",
    "    return G\n",
    "\n",
    "    \n",
    "def top_betweeness_nodes_with_attributes(G, top_n=20):\n",
    "    betweenness_dict = nx.get_node_attributes(G,'betweeness')\n",
    "    sorted_betweenness = sorted(betweenness_dict.items(), key=itemgetter(1), reverse=True)\n",
    "    #First get the top n nodes by betweenness as a list\n",
    "    top_betweenness = sorted_betweenness[:top_n]\n",
    "    degree_list = []\n",
    "    modularity_list = []\n",
    "    eig_list = []\n",
    "    closeness_list = []\n",
    "    node_id = []\n",
    "    betweenness_list = []\n",
    "    #Then find and print their corresponding attributes: degree,  modularity\n",
    "    for tb in top_betweenness: # Loop through top_betweenness\n",
    "        degree = nx.get_node_attributes(G,'degree')[tb[0]] # Use degree_dict to access a node's degree\n",
    "        modularity = nx.get_node_attributes(G,'modularity')[tb[0]]\n",
    "        closeness = nx.get_node_attributes(G,'closeness')[tb[0]]\n",
    "        eigenvector = nx.get_node_attributes(G,'eigenvector')[tb[0]]\n",
    "        closeness_list.append(closeness)\n",
    "        eig_list.append(eigenvector)\n",
    "        degree_list.append(degree)\n",
    "        modularity_list.append(modularity)\n",
    "        betweenness_list.append(tb[1])\n",
    "        node_id.append(tb[0])\n",
    "        #print(\"Name:\", tb[0], \"| Betweenness Centrality:\", tb[1], \"| Degree:\", degree, \"| Modularity\", modularity)\n",
    "    return pd.DataFrame({'id':node_id, 'betweeness': betweenness_list, \n",
    "                         'Degree': degree_list, 'eigenvector':eig_list, 'closeness' : closeness_list, 'Modularity': modularity_list})\n",
    "        \n",
    "def shortest_path(G, source_id, target_id):\n",
    "    shortest_path = nx.shortest_path(G, source=source_id, target=target_id)\n",
    "    print(\"Shortest path between user1 and user2:\", shortest_path)\n",
    "    return shortest_path\n",
    "\n",
    "def plot_community_class_count(communities):\n",
    "    count_list = []\n",
    "    class_list = []\n",
    "    for i,c in enumerate(communities):\n",
    "        class_list.append(i)\n",
    "        count_list.append(len(list(c)))\n",
    "\n",
    "    df = pd.DataFrame({'class':class_list, 'count':count_list})\n",
    "    df.plot.bar(x='class', y='count')\n",
    "    return df\n",
    "\n",
    "def connected_components(G, subgraph=False, node_list=None):\n",
    "    # use nx.connected_components to get the list of components,\n",
    "    # then use the max() command to find the largest one:\n",
    "    components = nx.connected_components(G)\n",
    "    print(components)\n",
    "    largest_component = max(components, key=len)\n",
    "    return components, largest_component\n",
    "\n",
    "def plot_subgraph(G, node_list):\n",
    "    subgraph = G.subgraph(node_list)\n",
    "    diameter = nx.diameter(subgraph)\n",
    "    print(\"Network diameter of largest component:\", diameter)\n",
    "    nt = draw_network(subgraph)\n",
    "    return nt\n",
    "\n",
    "def plot_ego_network(G, n, radius):\n",
    "    \"\"\"\n",
    "    plot ego network around a node n depending\n",
    "    on radius setting i.e. only include upto\n",
    "    n nodes directly or indirectly connected to\n",
    "    this node\n",
    "    \"\"\"\n",
    "    ego_nx = ego_graph(G, n, radius=radius)\n",
    "    nt = draw_network(ego_nx)\n",
    "    return nt\n",
    "    \n",
    "def export_graph(G, path='../data/github_network.gexf'):\n",
    "    nx.write_gexf(G, path)"
   ]
  },
  {
   "cell_type": "markdown",
   "id": "25f86d00",
   "metadata": {},
   "source": [
    "#### Read in dataset and plot graph after restriocting to top 1000  nodes with higest degree\n",
    "\n",
    "The  lets prune this by running max weighted spanning tree algo"
   ]
  },
  {
   "cell_type": "code",
   "execution_count": 3,
   "id": "4e5f30ff",
   "metadata": {},
   "outputs": [
    {
     "data": {
      "text/html": [
       "\n",
       "        <iframe\n",
       "            width=\"500px\"\n",
       "            height=\"500px\"\n",
       "            src=\"original_net_top_300_degree.html\"\n",
       "            frameborder=\"0\"\n",
       "            allowfullscreen\n",
       "        ></iframe>\n",
       "        "
      ],
      "text/plain": [
       "<IPython.lib.display.IFrame at 0x7f47506cab50>"
      ]
     },
     "execution_count": 3,
     "metadata": {},
     "output_type": "execute_result"
    }
   ],
   "source": [
    "\n",
    "df_edges, df_target = reader(path_edges, path_target) \n",
    "main_nx = create_network_from_df(df_edges)\n",
    "main_nx = remove_nodes_with_low_degree(main_nx, n=300)\n",
    "nt= draw_network(main_nx)\n",
    "nt.show('original_net_top_300_degree.html')"
   ]
  },
  {
   "cell_type": "markdown",
   "id": "df311ba4",
   "metadata": {},
   "source": [
    "#### Compute metrics and list metrics for top betweeness centralty nodes"
   ]
  },
  {
   "cell_type": "code",
   "execution_count": 27,
   "id": "f106ed79",
   "metadata": {},
   "outputs": [
    {
     "data": {
      "text/html": [
       "<div>\n",
       "<style scoped>\n",
       "    .dataframe tbody tr th:only-of-type {\n",
       "        vertical-align: middle;\n",
       "    }\n",
       "\n",
       "    .dataframe tbody tr th {\n",
       "        vertical-align: top;\n",
       "    }\n",
       "\n",
       "    .dataframe thead th {\n",
       "        text-align: right;\n",
       "    }\n",
       "</style>\n",
       "<table border=\"1\" class=\"dataframe\">\n",
       "  <thead>\n",
       "    <tr style=\"text-align: right;\">\n",
       "      <th></th>\n",
       "      <th>id</th>\n",
       "      <th>betweeness</th>\n",
       "      <th>Degree</th>\n",
       "      <th>eigenvector</th>\n",
       "      <th>closeness</th>\n",
       "      <th>Modularity</th>\n",
       "    </tr>\n",
       "  </thead>\n",
       "  <tbody>\n",
       "    <tr>\n",
       "      <th>0</th>\n",
       "      <td>27803</td>\n",
       "      <td>0.215388</td>\n",
       "      <td>286</td>\n",
       "      <td>0.245495</td>\n",
       "      <td>0.958333</td>\n",
       "      <td>0</td>\n",
       "    </tr>\n",
       "    <tr>\n",
       "      <th>1</th>\n",
       "      <td>19222</td>\n",
       "      <td>0.055430</td>\n",
       "      <td>189</td>\n",
       "      <td>0.188029</td>\n",
       "      <td>0.731051</td>\n",
       "      <td>0</td>\n",
       "    </tr>\n",
       "    <tr>\n",
       "      <th>2</th>\n",
       "      <td>31890</td>\n",
       "      <td>0.050642</td>\n",
       "      <td>175</td>\n",
       "      <td>0.175623</td>\n",
       "      <td>0.706856</td>\n",
       "      <td>2</td>\n",
       "    </tr>\n",
       "    <tr>\n",
       "      <th>3</th>\n",
       "      <td>36628</td>\n",
       "      <td>0.027578</td>\n",
       "      <td>148</td>\n",
       "      <td>0.155886</td>\n",
       "      <td>0.664444</td>\n",
       "      <td>1</td>\n",
       "    </tr>\n",
       "    <tr>\n",
       "      <th>4</th>\n",
       "      <td>19253</td>\n",
       "      <td>0.022345</td>\n",
       "      <td>119</td>\n",
       "      <td>0.122761</td>\n",
       "      <td>0.624217</td>\n",
       "      <td>0</td>\n",
       "    </tr>\n",
       "    <tr>\n",
       "      <th>...</th>\n",
       "      <td>...</td>\n",
       "      <td>...</td>\n",
       "      <td>...</td>\n",
       "      <td>...</td>\n",
       "      <td>...</td>\n",
       "      <td>...</td>\n",
       "    </tr>\n",
       "    <tr>\n",
       "      <th>295</th>\n",
       "      <td>36620</td>\n",
       "      <td>0.000016</td>\n",
       "      <td>6</td>\n",
       "      <td>0.009825</td>\n",
       "      <td>0.497504</td>\n",
       "      <td>0</td>\n",
       "    </tr>\n",
       "    <tr>\n",
       "      <th>296</th>\n",
       "      <td>3990</td>\n",
       "      <td>0.000012</td>\n",
       "      <td>8</td>\n",
       "      <td>0.011543</td>\n",
       "      <td>0.476115</td>\n",
       "      <td>2</td>\n",
       "    </tr>\n",
       "    <tr>\n",
       "      <th>297</th>\n",
       "      <td>26343</td>\n",
       "      <td>0.000011</td>\n",
       "      <td>7</td>\n",
       "      <td>0.014074</td>\n",
       "      <td>0.500000</td>\n",
       "      <td>0</td>\n",
       "    </tr>\n",
       "    <tr>\n",
       "      <th>298</th>\n",
       "      <td>17792</td>\n",
       "      <td>0.000009</td>\n",
       "      <td>8</td>\n",
       "      <td>0.016605</td>\n",
       "      <td>0.504216</td>\n",
       "      <td>0</td>\n",
       "    </tr>\n",
       "    <tr>\n",
       "      <th>299</th>\n",
       "      <td>24473</td>\n",
       "      <td>0.000000</td>\n",
       "      <td>4</td>\n",
       "      <td>0.005933</td>\n",
       "      <td>0.492586</td>\n",
       "      <td>0</td>\n",
       "    </tr>\n",
       "  </tbody>\n",
       "</table>\n",
       "<p>300 rows × 6 columns</p>\n",
       "</div>"
      ],
      "text/plain": [
       "        id  betweeness  Degree  eigenvector  closeness  Modularity\n",
       "0    27803    0.215388     286     0.245495   0.958333           0\n",
       "1    19222    0.055430     189     0.188029   0.731051           0\n",
       "2    31890    0.050642     175     0.175623   0.706856           2\n",
       "3    36628    0.027578     148     0.155886   0.664444           1\n",
       "4    19253    0.022345     119     0.122761   0.624217           0\n",
       "..     ...         ...     ...          ...        ...         ...\n",
       "295  36620    0.000016       6     0.009825   0.497504           0\n",
       "296   3990    0.000012       8     0.011543   0.476115           2\n",
       "297  26343    0.000011       7     0.014074   0.500000           0\n",
       "298  17792    0.000009       8     0.016605   0.504216           0\n",
       "299  24473    0.000000       4     0.005933   0.492586           0\n",
       "\n",
       "[300 rows x 6 columns]"
      ]
     },
     "execution_count": 27,
     "metadata": {},
     "output_type": "execute_result"
    }
   ],
   "source": [
    "degree, betweenness, clo, eig = compute_metrics(main_nx)\n",
    "\n",
    "communities, modularity = community_detection(main_nx)\n",
    "\n",
    "\n",
    "metrics = {'degree': degree, 'betweeness': betweenness, 'closeness': clo, 'eigenvector': eig,  'modularity': modularity}\n",
    "prune_nx = set_attributes(main_nx, **metrics)\n",
    "metrics = top_betweeness_nodes_with_attributes(prune_nx, top_n=1000)\n",
    "metrics\n"
   ]
  },
  {
   "cell_type": "code",
   "execution_count": 54,
   "id": "f7eacad2",
   "metadata": {},
   "outputs": [
    {
     "data": {
      "text/plain": [
       "Text(0, 0.5, 'Frequency')"
      ]
     },
     "execution_count": 54,
     "metadata": {},
     "output_type": "execute_result"
    },
    {
     "data": {
      "image/png": "[encoded data removed]",
      "text/plain": [
       "<Figure size 432x432 with 1 Axes>"
      ]
     },
     "metadata": {
      "needs_background": "light"
     },
     "output_type": "display_data"
    },
    {
     "data": {
      "image/png": "[encoded data removed]",
      "text/plain": [
       "<Figure size 432x432 with 1 Axes>"
      ]
     },
     "metadata": {
      "needs_background": "light"
     },
     "output_type": "display_data"
    },
    {
     "data": {
      "image/png": "[encoded data removed]",
      "text/plain": [
       "<Figure size 720x432 with 1 Axes>"
      ]
     },
     "metadata": {
      "needs_background": "light"
     },
     "output_type": "display_data"
    }
   ],
   "source": [
    "# this returns the entire graph as only one component in this graph \n",
    "\n",
    "plt.figure(figsize=(6, 6)) \n",
    "plt.scatter(metrics['Degree'], metrics['closeness'])\n",
    "plt.title('Scatter: Degree vs closeness metric')\n",
    "\n",
    "plt.figure(figsize=(6, 6)) \n",
    "plt.hist(metrics['Degree'])\n",
    "plt.title('Histrogram of degrees')\n",
    "\n",
    "m=1\n",
    "degree_freq = nx.degree_histogram(main_nx)\n",
    "degrees = range(len(degree_freq))\n",
    "plt.figure(figsize=(10, 6)) \n",
    "plt.loglog(degrees[m:], degree_freq[m:],'go-') \n",
    "plt.title('log log plot for degree freq,')\n",
    "plt.xlabel('Degree')\n",
    "plt.ylabel('Frequency')"
   ]
  },
  {
   "cell_type": "markdown",
   "id": "inside-techno",
   "metadata": {},
   "source": [
    "#### Pruned network - Max Weighted Spanning tree"
   ]
  },
  {
   "cell_type": "code",
   "execution_count": 16,
   "id": "different-thriller",
   "metadata": {
    "scrolled": false
   },
   "outputs": [
    {
     "data": {
      "text/html": [
       "\n",
       "        <iframe\n",
       "            width=\"500px\"\n",
       "            height=\"500px\"\n",
       "            src=\"mst_network.html\"\n",
       "            frameborder=\"0\"\n",
       "            allowfullscreen\n",
       "        ></iframe>\n",
       "        "
      ],
      "text/plain": [
       "<IPython.lib.display.IFrame at 0x7f4751212be0>"
      ]
     },
     "execution_count": 16,
     "metadata": {},
     "output_type": "execute_result"
    }
   ],
   "source": [
    "prune_nx =  max_spanning_tree(main_nx, algorithm=\"kruskal\")\n",
    "nt= draw_network(prune_nx)\n",
    "nt.show('mst_network.html')"
   ]
  },
  {
   "cell_type": "markdown",
   "id": "1fa729d3",
   "metadata": {},
   "source": [
    "check out who these top 3 people are by joining on target df\n"
   ]
  },
  {
   "cell_type": "code",
   "execution_count": 7,
   "id": "a6e5f8d1",
   "metadata": {},
   "outputs": [
    {
     "data": {
      "text/html": [
       "<div>\n",
       "<style scoped>\n",
       "    .dataframe tbody tr th:only-of-type {\n",
       "        vertical-align: middle;\n",
       "    }\n",
       "\n",
       "    .dataframe tbody tr th {\n",
       "        vertical-align: top;\n",
       "    }\n",
       "\n",
       "    .dataframe thead th {\n",
       "        text-align: right;\n",
       "    }\n",
       "</style>\n",
       "<table border=\"1\" class=\"dataframe\">\n",
       "  <thead>\n",
       "    <tr style=\"text-align: right;\">\n",
       "      <th></th>\n",
       "      <th>id</th>\n",
       "      <th>name</th>\n",
       "      <th>ml_target</th>\n",
       "    </tr>\n",
       "  </thead>\n",
       "  <tbody>\n",
       "    <tr>\n",
       "      <th>0</th>\n",
       "      <td>27803</td>\n",
       "      <td>nfultz</td>\n",
       "      <td>0</td>\n",
       "    </tr>\n",
       "    <tr>\n",
       "      <th>1</th>\n",
       "      <td>29982</td>\n",
       "      <td>dead-horse</td>\n",
       "      <td>0</td>\n",
       "    </tr>\n",
       "    <tr>\n",
       "      <th>2</th>\n",
       "      <td>21142</td>\n",
       "      <td>fengmk2</td>\n",
       "      <td>0</td>\n",
       "    </tr>\n",
       "  </tbody>\n",
       "</table>\n",
       "</div>"
      ],
      "text/plain": [
       "      id        name  ml_target\n",
       "0  27803      nfultz          0\n",
       "1  29982  dead-horse          0\n",
       "2  21142     fengmk2          0"
      ]
     },
     "execution_count": 7,
     "metadata": {},
     "output_type": "execute_result"
    }
   ],
   "source": [
    "top_nodes_labels = metrics.iloc[0:3, :].merge(df_target, on='id')[['id', 'name', 'ml_target']]\n",
    "top_nodes_labels"
   ]
  },
  {
   "cell_type": "code",
   "execution_count": 8,
   "id": "mental-mother",
   "metadata": {},
   "outputs": [
    {
     "name": "stdout",
     "output_type": "stream",
     "text": [
      "Shortest path between user1 and user2: [27048, 20363, 29982, 18562]\n"
     ]
    },
    {
     "data": {
      "image/png": "[encoded data removed]",
      "text/plain": [
       "<Figure size 432x288 with 1 Axes>"
      ]
     },
     "metadata": {
      "needs_background": "light"
     },
     "output_type": "display_data"
    }
   ],
   "source": [
    "\n",
    "shortest = shortest_path(prune_nx, source_id=27048, target_id=18562)\n",
    "community_count = plot_community_class_count(communities)"
   ]
  },
  {
   "cell_type": "markdown",
   "id": "3afb929c",
   "metadata": {},
   "source": [
    "#### subgraph with commuity groups "
   ]
  },
  {
   "cell_type": "code",
   "execution_count": 9,
   "id": "59f21fe4",
   "metadata": {},
   "outputs": [
    {
     "name": "stdout",
     "output_type": "stream",
     "text": [
      "<generator object connected_components at 0x7f474fb73ac0>\n",
      "Network diameter of largest component: 6\n"
     ]
    },
    {
     "data": {
      "text/html": [
       "\n",
       "        <iframe\n",
       "            width=\"500px\"\n",
       "            height=\"500px\"\n",
       "            src=\"subgraph.html\"\n",
       "            frameborder=\"0\"\n",
       "            allowfullscreen\n",
       "        ></iframe>\n",
       "        "
      ],
      "text/plain": [
       "<IPython.lib.display.IFrame at 0x7f474d77ef40>"
      ]
     },
     "execution_count": 9,
     "metadata": {},
     "output_type": "execute_result"
    }
   ],
   "source": [
    "\n",
    "components, largest_component = connected_components(prune_nx)\n",
    "nt = plot_subgraph(prune_nx, largest_component)\n",
    "mapper = {0:'red', 1: 'yellow', 2: 'green', 3:'orange', 4: 'brown', 5: 'purple', 6:'pink'}\n",
    "\n",
    "node_id_list = list(metrics['id'].values)\n",
    "\n",
    "for node in nt.nodes:\n",
    "    if node['id'] in node_id_list:\n",
    "        mod = metrics.loc[metrics['id']== node['id'], 'Modularity'].values[0]\n",
    "        node['color'] = mapper[mod]\n",
    "        \n",
    "nt.show('subgraph.html')"
   ]
  },
  {
   "cell_type": "markdown",
   "id": "94a58cb3",
   "metadata": {},
   "source": [
    "pick node with highest betweeness centrality and plot ego network with radius 2 "
   ]
  },
  {
   "cell_type": "code",
   "execution_count": 10,
   "id": "pleased-mistake",
   "metadata": {},
   "outputs": [
    {
     "data": {
      "text/html": [
       "\n",
       "        <iframe\n",
       "            width=\"500px\"\n",
       "            height=\"500px\"\n",
       "            src=\"ego.html\"\n",
       "            frameborder=\"0\"\n",
       "            allowfullscreen\n",
       "        ></iframe>\n",
       "        "
      ],
      "text/plain": [
       "<IPython.lib.display.IFrame at 0x7f47501f98b0>"
      ]
     },
     "execution_count": 10,
     "metadata": {},
     "output_type": "execute_result"
    }
   ],
   "source": [
    "node_id = 27803\n",
    "\n",
    "nt = plot_ego_network(prune_nx, node_id, radius = 1)\n",
    "for node in nt.nodes:\n",
    "    if node['id'] == node_id:\n",
    "        mod = metrics.loc[metrics['id']== node['id'], 'Modularity'].values[0]\n",
    "        node['color'] = mapper[mod]\n",
    "nt.show('ego.html')"
   ]
  },
  {
   "cell_type": "markdown",
   "id": "b7e1dfcc",
   "metadata": {},
   "source": [
    "#### Run node classification algo and plot labels \n",
    "\n"
   ]
  },
  {
   "cell_type": "code",
   "execution_count": 11,
   "id": "4f3c0197",
   "metadata": {},
   "outputs": [],
   "source": [
    "from networkx.algorithms import node_classification\n",
    "\n",
    "\n",
    "sample_targets = df_target.sample(frac=0.8, replace=False, random_state=1)\n",
    "\n",
    "for i in list(sample_targets['id'].values):\n",
    "    if i in prune_nx.nodes:\n",
    "        prune_nx.nodes[i]['label'] = sample_targets.loc[sample_targets['id'] == i, 'ml_target'].values[0]\n",
    "\n",
    "\n",
    "pred_labels = node_classification.harmonic_function(prune_nx)"
   ]
  },
  {
   "cell_type": "code",
   "execution_count": 17,
   "id": "fdb6d8a5",
   "metadata": {},
   "outputs": [
    {
     "data": {
      "text/html": [
       "\n",
       "        <iframe\n",
       "            width=\"500px\"\n",
       "            height=\"500px\"\n",
       "            src=\"node_classification.html\"\n",
       "            frameborder=\"0\"\n",
       "            allowfullscreen\n",
       "        ></iframe>\n",
       "        "
      ],
      "text/plain": [
       "<IPython.lib.display.IFrame at 0x7f4850648430>"
      ]
     },
     "execution_count": 17,
     "metadata": {},
     "output_type": "execute_result"
    }
   ],
   "source": [
    "nt= draw_network(prune_nx)\n",
    "\n",
    "\n",
    "for i, node in enumerate(nt.nodes):\n",
    "    if pred_labels[i] == 0:   # web developer\n",
    "        node['label'] = 0\n",
    "        node['color'] = \"red\"\n",
    "    elif pred_labels[i] == 1:\n",
    "        node['label'] = 1  # machine learning dev\n",
    "        node['color'] = \"green\"\n",
    "        \n",
    "nt.show('node_classification.html')"
   ]
  },
  {
   "cell_type": "code",
   "execution_count": null,
   "id": "b346cb88",
   "metadata": {},
   "outputs": [],
   "source": []
  }
 ],
 "metadata": {
  "kernelspec": {
   "display_name": "Python3.9 Bayesian Graphs",
   "language": "python",
   "name": "bayes"
  },
  "language_info": {
   "codemirror_mode": {
    "name": "ipython",
    "version": 3
   },
   "file_extension": ".py",
   "mimetype": "text/x-python",
   "name": "python",
   "nbconvert_exporter": "python",
   "pygments_lexer": "ipython3",
   "version": "3.9.0"
  }
 },
 "nbformat": 4,
 "nbformat_minor": 5
}
