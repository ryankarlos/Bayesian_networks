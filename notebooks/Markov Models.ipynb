{
 "cells": [
  {
   "cell_type": "markdown",
   "id": "9357912c",
   "metadata": {},
   "source": [
    "### Intro to Probabilistic graphical models"
   ]
  },
  {
   "cell_type": "markdown",
   "id": "19b52f20",
   "metadata": {},
   "source": [
    "PGMs are generative models that can compute the joint distribution among random variables in a system by explotiing the conditional indpendence relationship between variables to create a graph structure representing the relationships between different random variables.\n",
    "\n",
    "Graph structures can be directed, undirected or both and have a set of parameters associated with each variable (local conditional probabilities).\n",
    "\n",
    "There are mainly 2 types of graphical models: \n",
    "\n",
    "1. Markov Models: A Markov Models consists of an undirected graph and are parameterized by Factors. Factors\n",
    "represent how much 2 or more variables agree with each other.\n",
    "\n",
    "     e.g. Markov networks, Markov chains, HMM\n",
    "     \n",
    "\n",
    "2. Bayesian Models: A Bayesian Model consists of a directed graph and Conditional Probability Distributions(CPDs) associated with each of the node.\n",
    "\n",
    "     e.g. Discrete Bayesian Network, Continuous Bayesian Network, Dynamic BN (special case of HMM)"
   ]
  },
  {
   "cell_type": "markdown",
   "id": "e470ef3d",
   "metadata": {},
   "source": [
    "#### Markov Chains"
   ]
  },
  {
   "cell_type": "code",
   "execution_count": 1,
   "id": "cc6667ac",
   "metadata": {},
   "outputs": [],
   "source": [
    "import networkx as nx\n",
    "import pandas as pd\n",
    "from pomegranate import ConditionalProbabilityTable, DiscreteDistribution, MarkovChain\n",
    "import datetime\n",
    "import os\n",
    "from pathlib import Path\n",
    "import matplotlib.cm as cm\n",
    "\n",
    "import matplotlib.pyplot as plt\n",
    "import numpy as np\n",
    "import prefect\n",
    "from matplotlib.dates import YearLocator\n",
    "from hmmlearn.hmm import GaussianHMM, MultinomialHMM\n",
    "from pandas_datareader import data\n",
    "from prefect import Flow, task\n",
    "from matplotlib.dates import MonthLocator, YearLocator\n",
    "import numpy as np\n",
    "import pandas as pd\n",
    "from pgmpy.models import NaiveBayes\n",
    "import random\n",
    "import numpy as np\n",
    "import logging\n",
    "import pyvis\n",
    "from pyvis.network import Network\n",
    "\n",
    "\n",
    "def initialise_markov_chain(prior_prob, cpd):\n",
    "    d1 = DiscreteDistribution(prior_prob)\n",
    "    d2 = ConditionalProbabilityTable(cpd, [d1])\n",
    "    clf = MarkovChain([d1, d2])\n",
    "    return clf\n",
    "\n",
    "\n",
    "def compute_probability_sequence(seq, clf):\n",
    "    print(clf.log_probability(seq))\n",
    "\n",
    "\n",
    "def generate_random_sample_from_model(clf, length, num_seqs):\n",
    "    df = pd.DataFrame(columns=[\"sequences\"])\n",
    "    for i in range(num_seqs):\n",
    "        obs = clf.sample(length)\n",
    "        df = df.append({\"sequences\": obs}, ignore_index=True)\n",
    "    return df\n",
    "\n",
    "\n",
    "def build_markov_chain_from_data(df):\n",
    "    seq = list(df[\"sequences\"])\n",
    "    model = MarkovChain.from_samples(seq)\n",
    "    return model\n",
    "\n",
    "\n",
    "def create_markov_networkx_object(model):\n",
    "    cpd = model.distributions[1].to_dict()[\"table\"]\n",
    "    states = list(model.distributions[0].to_dict()[\"parameters\"][0].keys())\n",
    "    G = nx.MultiDiGraph()\n",
    "    G.add_nodes_from(states)\n",
    "    for k, l, v in cpd:\n",
    "        tmp_origin, tmp_destination = k, l\n",
    "        G.add_edge(tmp_origin, tmp_destination, weight=v, label=v[0:4])\n",
    "        color = \"red\"\n",
    "       \n",
    "    return G\n",
    "\n",
    "\n",
    "\n",
    "def draw_network(G, node_color, edge_color, notebook=True, physics=True, config=None):\n",
    "    nx.set_node_attributes(G, node_color, name=\"color\")\n",
    "    nx.set_edge_attributes(G, edge_color, name=\"color\")\n",
    "    if notebook:\n",
    "        nt = Network(notebook=True)\n",
    "    else:\n",
    "        nt = Network()\n",
    "    if physics:\n",
    "        nt.show_buttons(filter_=['physics'])\n",
    "    nt.from_nx(G)\n",
    "    if config is not None:\n",
    "        nt.set_options(config) \n",
    "    return nt"
   ]
  },
  {
   "cell_type": "code",
   "execution_count": 2,
   "id": "05c04947",
   "metadata": {},
   "outputs": [],
   "source": [
    "\n",
    "A = \"Sleep\" \n",
    "B = \"Eat\"\n",
    "C = \"Run\"\n",
    "\n",
    "prior_prob = {A: 0.5, B: 0.2, C: 0.3}\n",
    "cpd = [\n",
    "    [A, A, 0.10],\n",
    "    [A, B, 0.50],\n",
    "    [A, C, 0.30],\n",
    "    [B, A, 0.10],\n",
    "    [B, B, 0.40],\n",
    "    [B, C, 0.40],\n",
    "    [C, A, 0.05],\n",
    "    [C, B, 0.45],\n",
    "    [C, C, 0.45],\n",
    "]\n"
   ]
  },
  {
   "cell_type": "code",
   "execution_count": 12,
   "id": "300fcc7d",
   "metadata": {},
   "outputs": [
    {
     "data": {
      "text/plain": [
       "{\n",
       "    \"class\" : \"Distribution\",\n",
       "    \"name\" : \"ConditionalProbabilityTable\",\n",
       "    \"table\" : [\n",
       "        [\n",
       "            \"Sleep\",\n",
       "            \"Sleep\",\n",
       "            \"0.10000000000000002\"\n",
       "        ],\n",
       "        [\n",
       "            \"Sleep\",\n",
       "            \"Eat\",\n",
       "            \"0.5\"\n",
       "        ],\n",
       "        [\n",
       "            \"Sleep\",\n",
       "            \"Run\",\n",
       "            \"0.3\"\n",
       "        ],\n",
       "        [\n",
       "            \"Eat\",\n",
       "            \"Sleep\",\n",
       "            \"0.10000000000000002\"\n",
       "        ],\n",
       "        [\n",
       "            \"Eat\",\n",
       "            \"Eat\",\n",
       "            \"0.4\"\n",
       "        ],\n",
       "        [\n",
       "            \"Eat\",\n",
       "            \"Run\",\n",
       "            \"0.4\"\n",
       "        ],\n",
       "        [\n",
       "            \"Run\",\n",
       "            \"Sleep\",\n",
       "            \"0.05000000000000001\"\n",
       "        ],\n",
       "        [\n",
       "            \"Run\",\n",
       "            \"Eat\",\n",
       "            \"0.45\"\n",
       "        ],\n",
       "        [\n",
       "            \"Run\",\n",
       "            \"Run\",\n",
       "            \"0.45\"\n",
       "        ]\n",
       "    ],\n",
       "    \"dtypes\" : [\n",
       "        \"str\",\n",
       "        \"str\",\n",
       "        \"float\"\n",
       "    ],\n",
       "    \"parents\" : [\n",
       "        {\n",
       "            \"class\" : \"Distribution\",\n",
       "            \"dtype\" : \"str\",\n",
       "            \"name\" : \"DiscreteDistribution\",\n",
       "            \"parameters\" : [\n",
       "                {\n",
       "                    \"Sleep\" : 0.5,\n",
       "                    \"Eat\" : 0.2,\n",
       "                    \"Run\" : 0.3\n",
       "                }\n",
       "            ],\n",
       "            \"frozen\" : false\n",
       "        }\n",
       "    ]\n",
       "}"
      ]
     },
     "execution_count": 12,
     "metadata": {},
     "output_type": "execute_result"
    }
   ],
   "source": [
    "clf = initialise_markov_chain(prior_prob, cpd)\n",
    "\n",
    "clf.distributions[1]"
   ]
  },
  {
   "cell_type": "code",
   "execution_count": 13,
   "id": "eb7e3f88",
   "metadata": {},
   "outputs": [
    {
     "data": {
      "text/plain": [
       "OutMultiEdgeDataView([('Sleep', 'Sleep', '0.10000000000000002'), ('Sleep', 'Eat', '0.5'), ('Sleep', 'Run', '0.3'), ('Eat', 'Sleep', '0.10000000000000002'), ('Eat', 'Eat', '0.4'), ('Eat', 'Run', '0.4'), ('Run', 'Sleep', '0.05000000000000001'), ('Run', 'Eat', '0.45'), ('Run', 'Run', '0.45')])"
      ]
     },
     "execution_count": 13,
     "metadata": {},
     "output_type": "execute_result"
    }
   ],
   "source": [
    "\n",
    "G = create_markov_networkx_object(clf)\n",
    "G.edges.data('weight')\n"
   ]
  },
  {
   "cell_type": "code",
   "execution_count": 14,
   "id": "6cfc0107",
   "metadata": {},
   "outputs": [
    {
     "data": {
      "text/html": [
       "\n",
       "        <iframe\n",
       "            width=\"500px\"\n",
       "            height=\"500px\"\n",
       "            src=\"outputs/markov_chain.html\"\n",
       "            frameborder=\"0\"\n",
       "            allowfullscreen\n",
       "        ></iframe>\n",
       "        "
      ],
      "text/plain": [
       "<IPython.lib.display.IFrame at 0x7fc1d7e87940>"
      ]
     },
     "execution_count": 14,
     "metadata": {},
     "output_type": "execute_result"
    }
   ],
   "source": [
    "nt = draw_network(G, \"red\", \"green\", notebook=True, physics=True, config=None)\n",
    "nt.show('outputs/markov_chain.html')"
   ]
  },
  {
   "cell_type": "markdown",
   "id": "b1d871cb",
   "metadata": {},
   "source": [
    "We have a state based model with the probability distributions set earlier. We can use this model to draw random samples/seqeunces"
   ]
  },
  {
   "cell_type": "code",
   "execution_count": 29,
   "id": "6ee6cdac",
   "metadata": {},
   "outputs": [
    {
     "data": {
      "text/html": [
       "<div>\n",
       "<style scoped>\n",
       "    .dataframe tbody tr th:only-of-type {\n",
       "        vertical-align: middle;\n",
       "    }\n",
       "\n",
       "    .dataframe tbody tr th {\n",
       "        vertical-align: top;\n",
       "    }\n",
       "\n",
       "    .dataframe thead th {\n",
       "        text-align: right;\n",
       "    }\n",
       "</style>\n",
       "<table border=\"1\" class=\"dataframe\">\n",
       "  <thead>\n",
       "    <tr style=\"text-align: right;\">\n",
       "      <th></th>\n",
       "      <th>sequences</th>\n",
       "    </tr>\n",
       "  </thead>\n",
       "  <tbody>\n",
       "    <tr>\n",
       "      <th>0</th>\n",
       "      <td>[Sleep, Eat, Run, Eat]</td>\n",
       "    </tr>\n",
       "    <tr>\n",
       "      <th>1</th>\n",
       "      <td>[Sleep, Sleep, Run, Run]</td>\n",
       "    </tr>\n",
       "    <tr>\n",
       "      <th>2</th>\n",
       "      <td>[Sleep, Eat, Eat, Run]</td>\n",
       "    </tr>\n",
       "    <tr>\n",
       "      <th>3</th>\n",
       "      <td>[Run, Eat, Sleep, Sleep]</td>\n",
       "    </tr>\n",
       "    <tr>\n",
       "      <th>4</th>\n",
       "      <td>[Run, Run, Eat, Run]</td>\n",
       "    </tr>\n",
       "    <tr>\n",
       "      <th>...</th>\n",
       "      <td>...</td>\n",
       "    </tr>\n",
       "    <tr>\n",
       "      <th>95</th>\n",
       "      <td>[Sleep, Eat, Eat, Sleep]</td>\n",
       "    </tr>\n",
       "    <tr>\n",
       "      <th>96</th>\n",
       "      <td>[Run, Run, Eat, Eat]</td>\n",
       "    </tr>\n",
       "    <tr>\n",
       "      <th>97</th>\n",
       "      <td>[Run, Run, Eat, Eat]</td>\n",
       "    </tr>\n",
       "    <tr>\n",
       "      <th>98</th>\n",
       "      <td>[Sleep, Run, Eat, Sleep]</td>\n",
       "    </tr>\n",
       "    <tr>\n",
       "      <th>99</th>\n",
       "      <td>[Run, Run, Sleep, Sleep]</td>\n",
       "    </tr>\n",
       "  </tbody>\n",
       "</table>\n",
       "<p>100 rows × 1 columns</p>\n",
       "</div>"
      ],
      "text/plain": [
       "                   sequences\n",
       "0     [Sleep, Eat, Run, Eat]\n",
       "1   [Sleep, Sleep, Run, Run]\n",
       "2     [Sleep, Eat, Eat, Run]\n",
       "3   [Run, Eat, Sleep, Sleep]\n",
       "4       [Run, Run, Eat, Run]\n",
       "..                       ...\n",
       "95  [Sleep, Eat, Eat, Sleep]\n",
       "96      [Run, Run, Eat, Eat]\n",
       "97      [Run, Run, Eat, Eat]\n",
       "98  [Sleep, Run, Eat, Sleep]\n",
       "99  [Run, Run, Sleep, Sleep]\n",
       "\n",
       "[100 rows x 1 columns]"
      ]
     },
     "execution_count": 29,
     "metadata": {},
     "output_type": "execute_result"
    }
   ],
   "source": [
    "df = generate_random_sample_from_model(clf, length=4, num_seqs=100)\n",
    "df"
   ]
  },
  {
   "cell_type": "code",
   "execution_count": 30,
   "id": "99a54114",
   "metadata": {},
   "outputs": [
    {
     "name": "stdout",
     "output_type": "stream",
     "text": [
      "Model from data\n",
      "\n",
      "Run\tRun\t0.45528455284552843\n",
      "Run\tEat\t0.5040650406504065\n",
      "Run\tSleep\t0.04065040650406505\n",
      "Eat\tRun\t0.48695652173913045\n",
      "Eat\tEat\t0.4\n",
      "Eat\tSleep\t0.11304347826086955\n",
      "Sleep\tRun\t0.3387096774193548\n",
      "Sleep\tEat\t0.532258064516129\n",
      "Sleep\tSleep\t0.12903225806451615\n",
      "\n",
      "Original model\n",
      "\n",
      "Run\tRun\t0.46001719690455717\n",
      "Run\tEat\t0.48753224419604474\n",
      "Run\tSleep\t0.05245055889939811\n",
      "Eat\tRun\t0.444064901793339\n",
      "Eat\tEat\t0.4466268146883006\n",
      "Eat\tSleep\t0.10930828351836036\n",
      "Sleep\tRun\t0.36336336336336345\n",
      "Sleep\tEat\t0.524024024024024\n",
      "Sleep\tSleep\t0.11261261261261261\n"
     ]
    }
   ],
   "source": [
    "model_from_data = build_markov_chain_from_data(df)\n",
    "print('Model from data')\n",
    "print('')\n",
    "print(model_from_data.distributions[1])\n",
    "print('')\n",
    "print('Original model')\n",
    "print('')\n",
    "print(clf.distributions[1])"
   ]
  },
  {
   "cell_type": "markdown",
   "id": "8771dcca",
   "metadata": {},
   "source": [
    "### Hidden Markov Models"
   ]
  },
  {
   "cell_type": "markdown",
   "id": "1c6f22dd",
   "metadata": {},
   "source": [
    "https://www.cs.ubc.ca/~murphyk/Bayes/rabiner.pdf\n",
    "\n",
    "\n",
    "There are three fundamental problems for HMMs:\n",
    "\n",
    "1) Given the model parameters and observed data, estimate the optimal sequence of hidden states. \n",
    "\n",
    "2) Given the model parameters and observed data, calculate the likelihood of the data. \n",
    "\n",
    "3) Given just the observed data, estimate the model parameters."
   ]
  },
  {
   "cell_type": "markdown",
   "id": "38f7cfda",
   "metadata": {},
   "source": [
    "#### Discrete HMM"
   ]
  },
  {
   "cell_type": "code",
   "execution_count": 34,
   "id": "d197ec2e",
   "metadata": {},
   "outputs": [],
   "source": [
    "\n",
    "states = [\"Rainy\", \"Sunny\"]\n",
    "n_states = len(states)\n",
    "observations = [\"walk\", \"shop\", \"clean\"]\n",
    "n_observations = len(observations)\n",
    "start_probability = np.array([0.6, 0.4])\n",
    "transition_probability = np.array([[0.7, 0.3], [0.4, 0.6]])\n",
    "emission_probability = np.array([[0.1, 0.4, 0.5], [0.6, 0.3, 0.1]])\n",
    "ticker = \"TSLA\"\n",
    "start_date = datetime.date(2003, 7, 1)\n",
    "end_date = datetime.date(2017, 7, 1)\n",
    "\n",
    "\n",
    "def _get_markov_edges(Q):\n",
    "    \"\"\"\n",
    "    function that maps transition probability dataframe\n",
    "    to markov edges and weights\n",
    "    \"\"\"\n",
    "    edges = {}\n",
    "    for col in Q.columns:\n",
    "        for idx in Q.index:\n",
    "            edges[(idx, col)] = Q.loc[idx, col]\n",
    "    return edges\n",
    "\n",
    "\n",
    "def generate_random_seq_of_observations():\n",
    "    seq = []\n",
    "    lengths = []\n",
    "    for _ in range(100):\n",
    "        length = random.randint(5, 10)\n",
    "        lengths.append(length)\n",
    "        for _ in range(length):\n",
    "            r = random.random()\n",
    "            if r < 0.2:\n",
    "                seq.append(0)  # walk\n",
    "            elif r < 0.6:\n",
    "                seq.append(1)  # shop\n",
    "            else:\n",
    "                seq.append(2)  # clean\n",
    "    seq = np.array([seq]).T\n",
    "    return seq, lengths\n",
    "\n",
    "\n",
    "def is_converged(hmm_model):\n",
    "    return hmm_model.monitor_.converged\n",
    "\n",
    "\n",
    "def train_discrete_hmm(\n",
    "    X,\n",
    "    lengths,\n",
    "    start_probability,\n",
    "    transition_probability,\n",
    "    emission_probability,\n",
    "    components=3,\n",
    "    iterations=15,\n",
    "    verbose=True,\n",
    "):\n",
    "    model = MultinomialHMM(components, iterations, verbose, init_params=\"mc\")\n",
    "    model.startprob_ = start_probability\n",
    "    model.transmat_ = transition_probability\n",
    "    model.emissionprob_ = emission_probability\n",
    "    print(\n",
    "        f\"commencing hmm model training with parameters- \"\n",
    "        f\"Iterations: {iterations}, components: {components}\"\n",
    "    )\n",
    "    model.fit(X, lengths)\n",
    "    if is_converged(model):\n",
    "        print(\"model has converged\")\n",
    "        print(' ')\n",
    "        print(model.transmat_)\n",
    "        print(model.emissionprob_)\n",
    "        print(model.startprob_)\n",
    "    return model\n",
    "\n",
    "\n",
    "def decode_hidden_state_for_discrete_hmm(encoded_obs_seq, observations, states, model):\n",
    "    logprob, hidden_states = model.decode(encoded_obs_seq, algorithm=\"viterbi\")\n",
    "    print(\n",
    "        \"Observed behaviour:\",\n",
    "        \", \".join(map(lambda x: observations[x], encoded_obs_seq.T[0])),\n",
    "    )\n",
    "    print(\"Inferred hidden states:\", \", \".join(map(lambda x: states[x], hidden_states)))\n",
    "    return logprob, hidden_states\n",
    "\n"
   ]
  },
  {
   "cell_type": "markdown",
   "id": "4ee448a9",
   "metadata": {},
   "source": [
    "###### Given just the observed data, estimate the model parameters."
   ]
  },
  {
   "cell_type": "code",
   "execution_count": 35,
   "id": "022096e9",
   "metadata": {},
   "outputs": [],
   "source": [
    "seq, lengths = generate_random_seq_of_observations()"
   ]
  },
  {
   "cell_type": "code",
   "execution_count": 36,
   "id": "e41b5593",
   "metadata": {},
   "outputs": [
    {
     "name": "stdout",
     "output_type": "stream",
     "text": [
      "commencing hmm model training with parameters- Iterations: 30, components: 2\n",
      "model has converged\n",
      " \n",
      "[[0.66248678 0.33751322]\n",
      " [0.49836093 0.50163907]]\n",
      "[[0.07788276 0.39269907 0.52941818]\n",
      " [0.40823979 0.41537576 0.17638445]]\n",
      "[0.57223381 0.42776619]\n"
     ]
    }
   ],
   "source": [
    "        model = train_discrete_hmm(\n",
    "            seq,\n",
    "            lengths,\n",
    "            start_probability,\n",
    "            transition_probability,\n",
    "            emission_probability,\n",
    "            components=n_states,\n",
    "            iterations=30,\n",
    "            verbose=True,\n",
    "        )"
   ]
  },
  {
   "cell_type": "markdown",
   "id": "06eac8e8",
   "metadata": {},
   "source": [
    "###### Given the model parameters and observed data, estimate the optimal sequence of hidden states."
   ]
  },
  {
   "cell_type": "code",
   "execution_count": 37,
   "id": "816edf30",
   "metadata": {},
   "outputs": [
    {
     "name": "stdout",
     "output_type": "stream",
     "text": [
      "Observed behaviour: walk, clean, shop, shop, clean, walk\n",
      "Inferred hidden states: Sunny, Rainy, Rainy, Rainy, Rainy, Sunny\n"
     ]
    },
    {
     "data": {
      "text/plain": [
       "(-8.800201673262634, array([1, 0, 0, 0, 0, 1], dtype=int32))"
      ]
     },
     "execution_count": 37,
     "metadata": {},
     "output_type": "execute_result"
    }
   ],
   "source": [
    "obs_states = np.array([[0, 2, 1, 1, 2, 0]]).T\n",
    "decode_hidden_state_for_discrete_hmm(obs_states, observations, states, model)\n"
   ]
  },
  {
   "cell_type": "markdown",
   "id": "021a28d5",
   "metadata": {},
   "source": [
    "### Regime Detection"
   ]
  },
  {
   "cell_type": "code",
   "execution_count": 54,
   "id": "2937daec",
   "metadata": {},
   "outputs": [],
   "source": [
    "\n",
    "\n",
    "def get_quotes_data_finance(name=\"yahoo\"):\n",
    "    Stocks = data.DataReader(ticker, name, start_date, end_date)\n",
    "    Stocks.reset_index(inplace=True, drop=False)\n",
    "    Stocks.drop([\"Open\", \"High\", \"Low\", \"Adj Close\"], axis=1, inplace=True)\n",
    "    return Stocks\n",
    "\n",
    "\n",
    "\n",
    "def process_and_plot_stocks_data(Stocks):\n",
    "    Stocks = list(Stocks.itertuples(index=False, name=None))\n",
    "    dates = np.array([q[0] for q in Stocks])\n",
    "    end_val = np.array([q[1] for q in Stocks])\n",
    "    volume = np.array([q[2] for q in Stocks])[1:]\n",
    "    diff = np.diff(end_val)\n",
    "    dates = dates[1:]\n",
    "    end_val = end_val[1:]\n",
    "    X = np.column_stack([diff, volume])\n",
    "    plt.figure(figsize=(15, 5), dpi=100)\n",
    "    plt.title(ticker + \" - \" + end_date.strftime(\"%m/%d/%Y\"), fontsize=14)\n",
    "    plt.gca().xaxis.set_major_locator(YearLocator())\n",
    "    plt.plot_date(dates, end_val, \"-\")\n",
    "    plt.show()\n",
    "    return X, dates, end_val\n",
    "\n",
    "\n",
    "def train_gaussian_hmm(X, components=4, iter=1000):\n",
    "    model = GaussianHMM(\n",
    "        n_components=components, covariance_type=\"diag\", n_iter=iter\n",
    "    ).fit(X)\n",
    "    return model\n",
    "\n",
    "\n",
    "def compute_mean_and_vars_hidden_state(model):\n",
    "    for i in range(model.n_components):\n",
    "        print(\"{0}th hidden state\".format(i))\n",
    "        print(\"mean = \", model.means_[i])\n",
    "        print(\"var = \", np.diag(model.covars_[i]))\n",
    "\n",
    "def decode_hidden_states_time_series(X, model):\n",
    "    hidden_states = model.predict(X)\n",
    "    print(model.transmat_)\n",
    "    return hidden_states\n",
    "\n",
    "\n",
    "def plot_trained_parameters(model, hidden_states, dates, end_val, figsize):\n",
    "    fig, axs = plt.subplots(model.n_components, sharex=True, sharey=True, figsize=figsize)\n",
    "    colours = cm.rainbow(np.linspace(0, 1, model.n_components))\n",
    "    for i, (ax, colour) in enumerate(zip(axs, colours)):\n",
    "        # Use fancy indexing to plot data in each state.\n",
    "        mask = hidden_states == i\n",
    "        ax.plot_date(dates[mask], end_val[mask], \".-\", c=colour)\n",
    "        ax.set_title(\"{0}th hidden state\".format(i))\n",
    "\n",
    "        # Format the ticks.\n",
    "        ax.xaxis.set_major_locator(YearLocator())\n",
    "        ax.xaxis.set_minor_locator(MonthLocator())\n",
    "        ax.grid(True)\n",
    "    plt.show()\n"
   ]
  },
  {
   "cell_type": "code",
   "execution_count": 52,
   "id": "1f2f97a5",
   "metadata": {},
   "outputs": [
    {
     "data": {
      "text/html": [
       "<div>\n",
       "<style scoped>\n",
       "    .dataframe tbody tr th:only-of-type {\n",
       "        vertical-align: middle;\n",
       "    }\n",
       "\n",
       "    .dataframe tbody tr th {\n",
       "        vertical-align: top;\n",
       "    }\n",
       "\n",
       "    .dataframe thead th {\n",
       "        text-align: right;\n",
       "    }\n",
       "</style>\n",
       "<table border=\"1\" class=\"dataframe\">\n",
       "  <thead>\n",
       "    <tr style=\"text-align: right;\">\n",
       "      <th></th>\n",
       "      <th>Date</th>\n",
       "      <th>Close</th>\n",
       "      <th>Volume</th>\n",
       "    </tr>\n",
       "  </thead>\n",
       "  <tbody>\n",
       "    <tr>\n",
       "      <th>0</th>\n",
       "      <td>2010-06-29</td>\n",
       "      <td>4.778000</td>\n",
       "      <td>93831500</td>\n",
       "    </tr>\n",
       "    <tr>\n",
       "      <th>1</th>\n",
       "      <td>2010-06-30</td>\n",
       "      <td>4.766000</td>\n",
       "      <td>85935500</td>\n",
       "    </tr>\n",
       "    <tr>\n",
       "      <th>2</th>\n",
       "      <td>2010-07-01</td>\n",
       "      <td>4.392000</td>\n",
       "      <td>41094000</td>\n",
       "    </tr>\n",
       "    <tr>\n",
       "      <th>3</th>\n",
       "      <td>2010-07-02</td>\n",
       "      <td>3.840000</td>\n",
       "      <td>25699000</td>\n",
       "    </tr>\n",
       "    <tr>\n",
       "      <th>4</th>\n",
       "      <td>2010-07-06</td>\n",
       "      <td>3.222000</td>\n",
       "      <td>34334500</td>\n",
       "    </tr>\n",
       "    <tr>\n",
       "      <th>...</th>\n",
       "      <td>...</td>\n",
       "      <td>...</td>\n",
       "      <td>...</td>\n",
       "    </tr>\n",
       "    <tr>\n",
       "      <th>1760</th>\n",
       "      <td>2017-06-26</td>\n",
       "      <td>75.498001</td>\n",
       "      <td>33020500</td>\n",
       "    </tr>\n",
       "    <tr>\n",
       "      <th>1761</th>\n",
       "      <td>2017-06-27</td>\n",
       "      <td>72.473999</td>\n",
       "      <td>34982000</td>\n",
       "    </tr>\n",
       "    <tr>\n",
       "      <th>1762</th>\n",
       "      <td>2017-06-28</td>\n",
       "      <td>74.248001</td>\n",
       "      <td>31512500</td>\n",
       "    </tr>\n",
       "    <tr>\n",
       "      <th>1763</th>\n",
       "      <td>2017-06-29</td>\n",
       "      <td>72.150002</td>\n",
       "      <td>41105000</td>\n",
       "    </tr>\n",
       "    <tr>\n",
       "      <th>1764</th>\n",
       "      <td>2017-06-30</td>\n",
       "      <td>72.321999</td>\n",
       "      <td>29242500</td>\n",
       "    </tr>\n",
       "  </tbody>\n",
       "</table>\n",
       "<p>1765 rows × 3 columns</p>\n",
       "</div>"
      ],
      "text/plain": [
       "           Date      Close    Volume\n",
       "0    2010-06-29   4.778000  93831500\n",
       "1    2010-06-30   4.766000  85935500\n",
       "2    2010-07-01   4.392000  41094000\n",
       "3    2010-07-02   3.840000  25699000\n",
       "4    2010-07-06   3.222000  34334500\n",
       "...         ...        ...       ...\n",
       "1760 2017-06-26  75.498001  33020500\n",
       "1761 2017-06-27  72.473999  34982000\n",
       "1762 2017-06-28  74.248001  31512500\n",
       "1763 2017-06-29  72.150002  41105000\n",
       "1764 2017-06-30  72.321999  29242500\n",
       "\n",
       "[1765 rows x 3 columns]"
      ]
     },
     "execution_count": 52,
     "metadata": {},
     "output_type": "execute_result"
    }
   ],
   "source": [
    "stocks = get_quotes_data_finance()\n",
    "stocks"
   ]
  },
  {
   "cell_type": "code",
   "execution_count": 55,
   "id": "09c6c2ce",
   "metadata": {},
   "outputs": [
    {
     "data": {
      "image/png": "[encoded data removed]",
      "text/plain": [
       "<Figure size 1500x500 with 1 Axes>"
      ]
     },
     "metadata": {
      "needs_background": "light"
     },
     "output_type": "display_data"
    }
   ],
   "source": [
    "X, dates, end_val = process_and_plot_stocks_data(stocks)\n",
    "\n"
   ]
  },
  {
   "cell_type": "code",
   "execution_count": 56,
   "id": "a9f87a2d",
   "metadata": {},
   "outputs": [
    {
     "name": "stdout",
     "output_type": "stream",
     "text": [
      "[[9.31811774e-01 6.77633511e-06 6.47975101e-02 3.38393992e-03]\n",
      " [3.76964761e-47 7.77406026e-01 1.33448656e-01 8.91453173e-02]\n",
      " [8.85294994e-02 1.37281731e-01 7.60331529e-01 1.38572411e-02]\n",
      " [9.47760934e-97 2.78684126e-01 7.06735980e-03 7.14248514e-01]]\n"
     ]
    }
   ],
   "source": [
    "model = train_gaussian_hmm(X)\n",
    "hidden_states = decode_hidden_states_time_series(X, model)\n"
   ]
  },
  {
   "cell_type": "code",
   "execution_count": 58,
   "id": "f495c28f",
   "metadata": {},
   "outputs": [
    {
     "name": "stdout",
     "output_type": "stream",
     "text": [
      "0th hidden state\n",
      "mean =  [6.04262518e-03 4.90260161e+06]\n",
      "var =  [1.89295258e-02 4.35403810e+12]\n",
      "1th hidden state\n",
      "mean =  [5.95094892e-02 3.00585467e+07]\n",
      "var =  [1.18535237e+00 6.55267732e+13]\n",
      "2th hidden state\n",
      "mean =  [3.85896024e-02 1.55799977e+07]\n",
      "var =  [3.04156863e-01 1.77294415e+13]\n",
      "3th hidden state\n",
      "mean =  [7.86400388e-02 6.59574591e+07]\n",
      "var =  [3.54028275e+00 7.88339719e+14]\n"
     ]
    }
   ],
   "source": [
    "compute_mean_and_vars_hidden_state(model)"
   ]
  },
  {
   "cell_type": "code",
   "execution_count": 59,
   "id": "aba503ad",
   "metadata": {},
   "outputs": [
    {
     "data": {
      "image/png": "[encoded data removed]",
      "text/plain": [
       "<Figure size 1224x720 with 4 Axes>"
      ]
     },
     "metadata": {
      "needs_background": "light"
     },
     "output_type": "display_data"
    }
   ],
   "source": [
    "\n",
    "plot_trained_parameters(model, hidden_states, dates, end_val, (17,10))"
   ]
  },
  {
   "cell_type": "markdown",
   "id": "57f53ef0",
   "metadata": {},
   "source": [
    "### Markov Networks/Random fields"
   ]
  },
  {
   "cell_type": "code",
   "execution_count": 46,
   "id": "fd73f7e0",
   "metadata": {},
   "outputs": [
    {
     "data": {
      "text/html": [
       "\n",
       "        <iframe\n",
       "            width=\"500px\"\n",
       "            height=\"500px\"\n",
       "            src=\"outputs/markov_network.html\"\n",
       "            frameborder=\"0\"\n",
       "            allowfullscreen\n",
       "        ></iframe>\n",
       "        "
      ],
      "text/plain": [
       "<IPython.lib.display.IFrame at 0x7fc1d81577f0>"
      ]
     },
     "execution_count": 46,
     "metadata": {},
     "output_type": "execute_result"
    }
   ],
   "source": [
    "from pgmpy.models import MarkovNetwork\n",
    "from pgmpy.factors.discrete import DiscreteFactor\n",
    "student = MarkovNetwork([('Mary', 'Bob'), ('Bob', 'Will')])\n",
    "factor1 = DiscreteFactor(['Mary', 'Bob'], cardinality=[2, 2],\n",
    "                         values=np.random.rand(4))\n",
    "factor2 = DiscreteFactor(['Bob', 'Will'], cardinality=[2, 3],\n",
    "                         values=np.ones(6))\n",
    "student.add_factors(factor1,factor2)\n",
    "student.get_factors()\n",
    "\n",
    "nt = draw_network(student, \"red\", \"green\", notebook=True, physics=True, config=None)\n",
    "nt.show('outputs/markov_network.html')\n",
    "       "
   ]
  }
 ],
 "metadata": {
  "kernelspec": {
   "display_name": "Python (pgm)",
   "language": "python",
   "name": "bayes"
  },
  "language_info": {
   "codemirror_mode": {
    "name": "ipython",
    "version": 3
   },
   "file_extension": ".py",
   "mimetype": "text/x-python",
   "name": "python",
   "nbconvert_exporter": "python",
   "pygments_lexer": "ipython3",
   "version": "3.9.0"
  }
 },
 "nbformat": 4,
 "nbformat_minor": 5
}
