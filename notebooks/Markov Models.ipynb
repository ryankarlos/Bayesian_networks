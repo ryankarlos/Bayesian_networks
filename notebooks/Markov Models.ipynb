{
 "cells": [
  {
   "cell_type": "markdown",
   "id": "9357912c",
   "metadata": {},
   "source": [
    "### Intro to Probabilistic graphical models"
   ]
  },
  {
   "cell_type": "markdown",
   "id": "19b52f20",
   "metadata": {},
   "source": [
    "PGMs are generative models that can compute the joint distribution among random variables in a system by explotiing the conditional indpendence relationship between variables to create a graph structure representing the relationships between different random variables.\n",
    "\n",
    "Graph structures can be directed, undirected or both and have a set of parameters associated with each variable (local conditional probabilities).\n",
    "\n",
    "There are mainly 2 types of graphical models: \n",
    "\n",
    "1. Markov Models: A Markov Models consists of an undirected graph and are parameterized by Factors. Factors\n",
    "represent how much 2 or more variables agree with each other.\n",
    "\n",
    "     e.g. Markov networks, Markov chains, HMM\n",
    "     \n",
    "\n",
    "2. Bayesian Models: A Bayesian Model consists of a directed graph and Conditional Probability Distributions(CPDs) associated with each of the node.\n",
    "\n",
    "     e.g. Discrete Bayesian Network, Continuous Bayesian Network, Dynamic BN (special case of HMM)"
   ]
  },
  {
   "cell_type": "markdown",
   "id": "e470ef3d",
   "metadata": {},
   "source": [
    "#### Markov Chains"
   ]
  },
  {
   "cell_type": "code",
   "execution_count": 60,
   "id": "cc6667ac",
   "metadata": {},
   "outputs": [],
   "source": [
    "import networkx as nx\n",
    "import pandas as pd\n",
    "from pomegranate import ConditionalProbabilityTable, DiscreteDistribution, MarkovChain\n",
    "import datetime\n",
    "import os\n",
    "from pathlib import Path\n",
    "import matplotlib.cm as cm\n",
    "\n",
    "import matplotlib.pyplot as plt\n",
    "import numpy as np\n",
    "import prefect\n",
    "from matplotlib.dates import YearLocator\n",
    "from hmmlearn.hmm import GaussianHMM, MultinomialHMM\n",
    "import pandas_datareader.data as web\n",
    "from prefect import Flow, task\n",
    "from matplotlib.dates import MonthLocator, YearLocator\n",
    "import numpy as np\n",
    "import pandas as pd\n",
    "from pgmpy.models import NaiveBayes\n",
    "import random\n",
    "import numpy as np\n",
    "import logging\n",
    "import pyvis\n",
    "from pyvis.network import Network\n",
    "\n",
    "\n",
    "def initialise_markov_chain(prior_prob, cpd):\n",
    "    d1 = DiscreteDistribution(prior_prob)\n",
    "    d2 = ConditionalProbabilityTable(cpd, [d1])\n",
    "    clf = MarkovChain([d1, d2])\n",
    "    return clf\n",
    "\n",
    "\n",
    "def compute_probability_sequence(seq, clf):\n",
    "    print(clf.log_probability(seq))\n",
    "\n",
    "\n",
    "def generate_random_sample_from_model(clf, length, num_seqs):\n",
    "    df = pd.DataFrame(columns=[\"sequences\"])\n",
    "    for i in range(num_seqs):\n",
    "        obs = clf.sample(length)\n",
    "        df = df.append({\"sequences\": obs}, ignore_index=True)\n",
    "    return df\n",
    "\n",
    "\n",
    "def build_markov_chain_from_data(df):\n",
    "    seq = list(df[\"sequences\"])\n",
    "    model = MarkovChain.from_samples(seq)\n",
    "    return model\n",
    "\n",
    "\n",
    "def create_markov_networkx_object(model):\n",
    "    cpd = model.distributions[1].to_dict()[\"table\"]\n",
    "    states = list(model.distributions[0].to_dict()[\"parameters\"][0].keys())\n",
    "    G = nx.MultiDiGraph()\n",
    "    G.add_nodes_from(states)\n",
    "    for k, l, v in cpd:\n",
    "        tmp_origin, tmp_destination = k, l\n",
    "        G.add_edge(tmp_origin, tmp_destination, weight=v, label=v[0:4])\n",
    "        color = \"red\"\n",
    "       \n",
    "    return G\n",
    "\n",
    "\n",
    "\n",
    "def draw_network(G, node_color, edge_color, notebook=True, physics=True, config=None):\n",
    "    nx.set_node_attributes(G, node_color, name=\"color\")\n",
    "    nx.set_edge_attributes(G, edge_color, name=\"color\")\n",
    "    if notebook:\n",
    "        nt = Network(notebook=True)\n",
    "    else:\n",
    "        nt = Network()\n",
    "    if physics:\n",
    "        nt.show_buttons(filter_=['physics'])\n",
    "    nt.from_nx(G)\n",
    "    if config is not None:\n",
    "        nt.set_options(config) \n",
    "    return nt"
   ]
  },
  {
   "cell_type": "code",
   "execution_count": 2,
   "id": "05c04947",
   "metadata": {},
   "outputs": [],
   "source": [
    "\n",
    "A = \"Sleep\" \n",
    "B = \"Eat\"\n",
    "C = \"Run\"\n",
    "\n",
    "prior_prob = {A: 0.5, B: 0.2, C: 0.3}\n",
    "cpd = [\n",
    "    [A, A, 0.10],\n",
    "    [A, B, 0.50],\n",
    "    [A, C, 0.30],\n",
    "    [B, A, 0.10],\n",
    "    [B, B, 0.40],\n",
    "    [B, C, 0.40],\n",
    "    [C, A, 0.05],\n",
    "    [C, B, 0.45],\n",
    "    [C, C, 0.45],\n",
    "]\n"
   ]
  },
  {
   "cell_type": "code",
   "execution_count": 12,
   "id": "8c3599bd",
   "metadata": {},
   "outputs": [
    {
     "data": {
      "text/plain": [
       "{\n",
       "    \"class\" : \"Distribution\",\n",
       "    \"name\" : \"ConditionalProbabilityTable\",\n",
       "    \"table\" : [\n",
       "        [\n",
       "            \"Sleep\",\n",
       "            \"Sleep\",\n",
       "            \"0.10000000000000002\"\n",
       "        ],\n",
       "        [\n",
       "            \"Sleep\",\n",
       "            \"Eat\",\n",
       "            \"0.5\"\n",
       "        ],\n",
       "        [\n",
       "            \"Sleep\",\n",
       "            \"Run\",\n",
       "            \"0.3\"\n",
       "        ],\n",
       "        [\n",
       "            \"Eat\",\n",
       "            \"Sleep\",\n",
       "            \"0.10000000000000002\"\n",
       "        ],\n",
       "        [\n",
       "            \"Eat\",\n",
       "            \"Eat\",\n",
       "            \"0.4\"\n",
       "        ],\n",
       "        [\n",
       "            \"Eat\",\n",
       "            \"Run\",\n",
       "            \"0.4\"\n",
       "        ],\n",
       "        [\n",
       "            \"Run\",\n",
       "            \"Sleep\",\n",
       "            \"0.05000000000000001\"\n",
       "        ],\n",
       "        [\n",
       "            \"Run\",\n",
       "            \"Eat\",\n",
       "            \"0.45\"\n",
       "        ],\n",
       "        [\n",
       "            \"Run\",\n",
       "            \"Run\",\n",
       "            \"0.45\"\n",
       "        ]\n",
       "    ],\n",
       "    \"dtypes\" : [\n",
       "        \"str\",\n",
       "        \"str\",\n",
       "        \"float\"\n",
       "    ],\n",
       "    \"parents\" : [\n",
       "        {\n",
       "            \"class\" : \"Distribution\",\n",
       "            \"dtype\" : \"str\",\n",
       "            \"name\" : \"DiscreteDistribution\",\n",
       "            \"parameters\" : [\n",
       "                {\n",
       "                    \"Sleep\" : 0.5,\n",
       "                    \"Eat\" : 0.2,\n",
       "                    \"Run\" : 0.3\n",
       "                }\n",
       "            ],\n",
       "            \"frozen\" : false\n",
       "        }\n",
       "    ]\n",
       "}"
      ]
     },
     "execution_count": 12,
     "metadata": {},
     "output_type": "execute_result"
    }
   ],
   "source": [
    "clf = initialise_markov_chain(prior_prob, cpd)\n",
    "\n",
    "clf.distributions[1]"
   ]
  },
  {
   "cell_type": "code",
   "execution_count": 13,
   "id": "9bf2122a",
   "metadata": {},
   "outputs": [
    {
     "data": {
      "text/plain": [
       "OutMultiEdgeDataView([('Sleep', 'Sleep', '0.10000000000000002'), ('Sleep', 'Eat', '0.5'), ('Sleep', 'Run', '0.3'), ('Eat', 'Sleep', '0.10000000000000002'), ('Eat', 'Eat', '0.4'), ('Eat', 'Run', '0.4'), ('Run', 'Sleep', '0.05000000000000001'), ('Run', 'Eat', '0.45'), ('Run', 'Run', '0.45')])"
      ]
     },
     "execution_count": 13,
     "metadata": {},
     "output_type": "execute_result"
    }
   ],
   "source": [
    "\n",
    "G = create_markov_networkx_object(clf)\n",
    "G.edges.data('weight')\n"
   ]
  },
  {
   "cell_type": "code",
   "execution_count": 14,
   "id": "fed114f7",
   "metadata": {},
   "outputs": [
    {
     "data": {
      "text/html": [
       "\n",
       "        <iframe\n",
       "            width=\"500px\"\n",
       "            height=\"500px\"\n",
       "            src=\"outputs/markov_chain.html\"\n",
       "            frameborder=\"0\"\n",
       "            allowfullscreen\n",
       "        ></iframe>\n",
       "        "
      ],
      "text/plain": [
       "<IPython.lib.display.IFrame at 0x7fc1d7e87940>"
      ]
     },
     "execution_count": 14,
     "metadata": {},
     "output_type": "execute_result"
    }
   ],
   "source": [
    "nt = draw_network(G, \"red\", \"green\", notebook=True, physics=True, config=None)\n",
    "nt.show('outputs/markov_chain.html')"
   ]
  },
  {
   "cell_type": "markdown",
   "id": "31f63250",
   "metadata": {},
   "source": [
    "We have a state based model with the probability distributions set earlier. We can use this model to draw random samples/seqeunces"
   ]
  },
  {
   "cell_type": "code",
   "execution_count": 29,
   "id": "b932c593",
   "metadata": {},
   "outputs": [
    {
     "data": {
      "text/html": [
       "<div>\n",
       "<style scoped>\n",
       "    .dataframe tbody tr th:only-of-type {\n",
       "        vertical-align: middle;\n",
       "    }\n",
       "\n",
       "    .dataframe tbody tr th {\n",
       "        vertical-align: top;\n",
       "    }\n",
       "\n",
       "    .dataframe thead th {\n",
       "        text-align: right;\n",
       "    }\n",
       "</style>\n",
       "<table border=\"1\" class=\"dataframe\">\n",
       "  <thead>\n",
       "    <tr style=\"text-align: right;\">\n",
       "      <th></th>\n",
       "      <th>sequences</th>\n",
       "    </tr>\n",
       "  </thead>\n",
       "  <tbody>\n",
       "    <tr>\n",
       "      <th>0</th>\n",
       "      <td>[Sleep, Eat, Run, Eat]</td>\n",
       "    </tr>\n",
       "    <tr>\n",
       "      <th>1</th>\n",
       "      <td>[Sleep, Sleep, Run, Run]</td>\n",
       "    </tr>\n",
       "    <tr>\n",
       "      <th>2</th>\n",
       "      <td>[Sleep, Eat, Eat, Run]</td>\n",
       "    </tr>\n",
       "    <tr>\n",
       "      <th>3</th>\n",
       "      <td>[Run, Eat, Sleep, Sleep]</td>\n",
       "    </tr>\n",
       "    <tr>\n",
       "      <th>4</th>\n",
       "      <td>[Run, Run, Eat, Run]</td>\n",
       "    </tr>\n",
       "    <tr>\n",
       "      <th>...</th>\n",
       "      <td>...</td>\n",
       "    </tr>\n",
       "    <tr>\n",
       "      <th>95</th>\n",
       "      <td>[Sleep, Eat, Eat, Sleep]</td>\n",
       "    </tr>\n",
       "    <tr>\n",
       "      <th>96</th>\n",
       "      <td>[Run, Run, Eat, Eat]</td>\n",
       "    </tr>\n",
       "    <tr>\n",
       "      <th>97</th>\n",
       "      <td>[Run, Run, Eat, Eat]</td>\n",
       "    </tr>\n",
       "    <tr>\n",
       "      <th>98</th>\n",
       "      <td>[Sleep, Run, Eat, Sleep]</td>\n",
       "    </tr>\n",
       "    <tr>\n",
       "      <th>99</th>\n",
       "      <td>[Run, Run, Sleep, Sleep]</td>\n",
       "    </tr>\n",
       "  </tbody>\n",
       "</table>\n",
       "<p>100 rows × 1 columns</p>\n",
       "</div>"
      ],
      "text/plain": [
       "                   sequences\n",
       "0     [Sleep, Eat, Run, Eat]\n",
       "1   [Sleep, Sleep, Run, Run]\n",
       "2     [Sleep, Eat, Eat, Run]\n",
       "3   [Run, Eat, Sleep, Sleep]\n",
       "4       [Run, Run, Eat, Run]\n",
       "..                       ...\n",
       "95  [Sleep, Eat, Eat, Sleep]\n",
       "96      [Run, Run, Eat, Eat]\n",
       "97      [Run, Run, Eat, Eat]\n",
       "98  [Sleep, Run, Eat, Sleep]\n",
       "99  [Run, Run, Sleep, Sleep]\n",
       "\n",
       "[100 rows x 1 columns]"
      ]
     },
     "execution_count": 29,
     "metadata": {},
     "output_type": "execute_result"
    }
   ],
   "source": [
    "df = generate_random_sample_from_model(clf, length=4, num_seqs=100)\n",
    "df"
   ]
  },
  {
   "cell_type": "code",
   "execution_count": 30,
   "id": "8409af1c",
   "metadata": {},
   "outputs": [
    {
     "name": "stdout",
     "output_type": "stream",
     "text": [
      "Model from data\n",
      "\n",
      "Run\tRun\t0.45528455284552843\n",
      "Run\tEat\t0.5040650406504065\n",
      "Run\tSleep\t0.04065040650406505\n",
      "Eat\tRun\t0.48695652173913045\n",
      "Eat\tEat\t0.4\n",
      "Eat\tSleep\t0.11304347826086955\n",
      "Sleep\tRun\t0.3387096774193548\n",
      "Sleep\tEat\t0.532258064516129\n",
      "Sleep\tSleep\t0.12903225806451615\n",
      "\n",
      "Original model\n",
      "\n",
      "Run\tRun\t0.46001719690455717\n",
      "Run\tEat\t0.48753224419604474\n",
      "Run\tSleep\t0.05245055889939811\n",
      "Eat\tRun\t0.444064901793339\n",
      "Eat\tEat\t0.4466268146883006\n",
      "Eat\tSleep\t0.10930828351836036\n",
      "Sleep\tRun\t0.36336336336336345\n",
      "Sleep\tEat\t0.524024024024024\n",
      "Sleep\tSleep\t0.11261261261261261\n"
     ]
    }
   ],
   "source": [
    "model_from_data = build_markov_chain_from_data(df)\n",
    "print('Model from data')\n",
    "print('')\n",
    "print(model_from_data.distributions[1])\n",
    "print('')\n",
    "print('Original model')\n",
    "print('')\n",
    "print(clf.distributions[1])"
   ]
  },
  {
   "cell_type": "markdown",
   "id": "8771dcca",
   "metadata": {},
   "source": [
    "### Hidden Markov Models"
   ]
  },
  {
   "cell_type": "markdown",
   "id": "df63d7af",
   "metadata": {},
   "source": [
    "https://www.cs.ubc.ca/~murphyk/Bayes/rabiner.pdf\n",
    "\n",
    "\n",
    "There are three fundamental problems for HMMs:\n",
    "\n",
    "1) Given the model parameters and observed data, estimate the optimal sequence of hidden states. \n",
    "\n",
    "2) Given the model parameters and observed data, calculate the likelihood of the data. \n",
    "\n",
    "3) Given just the observed data, estimate the model parameters."
   ]
  },
  {
   "cell_type": "markdown",
   "id": "38f7cfda",
   "metadata": {},
   "source": [
    "#### Discrete HMM"
   ]
  },
  {
   "cell_type": "code",
   "execution_count": 34,
   "id": "d197ec2e",
   "metadata": {},
   "outputs": [],
   "source": [
    "\n",
    "states = [\"Rainy\", \"Sunny\"]\n",
    "n_states = len(states)\n",
    "observations = [\"walk\", \"shop\", \"clean\"]\n",
    "n_observations = len(observations)\n",
    "start_probability = np.array([0.6, 0.4])\n",
    "transition_probability = np.array([[0.7, 0.3], [0.4, 0.6]])\n",
    "emission_probability = np.array([[0.1, 0.4, 0.5], [0.6, 0.3, 0.1]])\n",
    "\n",
    "\n",
    "def _get_markov_edges(Q):\n",
    "    \"\"\"\n",
    "    function that maps transition probability dataframe\n",
    "    to markov edges and weights\n",
    "    \"\"\"\n",
    "    edges = {}\n",
    "    for col in Q.columns:\n",
    "        for idx in Q.index:\n",
    "            edges[(idx, col)] = Q.loc[idx, col]\n",
    "    return edges\n",
    "\n",
    "\n",
    "def generate_random_seq_of_observations():\n",
    "    seq = []\n",
    "    lengths = []\n",
    "    for _ in range(100):\n",
    "        length = random.randint(5, 10)\n",
    "        lengths.append(length)\n",
    "        for _ in range(length):\n",
    "            r = random.random()\n",
    "            if r < 0.2:\n",
    "                seq.append(0)  # walk\n",
    "            elif r < 0.6:\n",
    "                seq.append(1)  # shop\n",
    "            else:\n",
    "                seq.append(2)  # clean\n",
    "    seq = np.array([seq]).T\n",
    "    return seq, lengths\n",
    "\n",
    "\n",
    "def is_converged(hmm_model):\n",
    "    return hmm_model.monitor_.converged\n",
    "\n",
    "\n",
    "def train_discrete_hmm(\n",
    "    X,\n",
    "    lengths,\n",
    "    start_probability,\n",
    "    transition_probability,\n",
    "    emission_probability,\n",
    "    components=3,\n",
    "    iterations=15,\n",
    "    verbose=True,\n",
    "):\n",
    "    model = MultinomialHMM(components, iterations, verbose, init_params=\"mc\")\n",
    "    model.startprob_ = start_probability\n",
    "    model.transmat_ = transition_probability\n",
    "    model.emissionprob_ = emission_probability\n",
    "    print(\n",
    "        f\"commencing hmm model training with parameters- \"\n",
    "        f\"Iterations: {iterations}, components: {components}\"\n",
    "    )\n",
    "    model.fit(X, lengths)\n",
    "    if is_converged(model):\n",
    "        print(\"model has converged\")\n",
    "        print(' ')\n",
    "        print(model.transmat_)\n",
    "        print(model.emissionprob_)\n",
    "        print(model.startprob_)\n",
    "    return model\n",
    "\n",
    "\n",
    "def decode_hidden_state_for_discrete_hmm(encoded_obs_seq, observations, states, model):\n",
    "    logprob, hidden_states = model.decode(encoded_obs_seq, algorithm=\"viterbi\")\n",
    "    print(\n",
    "        \"Observed behaviour:\",\n",
    "        \", \".join(map(lambda x: observations[x], encoded_obs_seq.T[0])),\n",
    "    )\n",
    "    print(\"Inferred hidden states:\", \", \".join(map(lambda x: states[x], hidden_states)))\n",
    "    return logprob, hidden_states\n",
    "\n"
   ]
  },
  {
   "cell_type": "markdown",
   "id": "6608507f",
   "metadata": {},
   "source": [
    "###### Given just the observed data, estimate the model parameters."
   ]
  },
  {
   "cell_type": "code",
   "execution_count": 35,
   "id": "022096e9",
   "metadata": {},
   "outputs": [],
   "source": [
    "seq, lengths = generate_random_seq_of_observations()"
   ]
  },
  {
   "cell_type": "code",
   "execution_count": 36,
   "id": "e41b5593",
   "metadata": {},
   "outputs": [
    {
     "name": "stdout",
     "output_type": "stream",
     "text": [
      "commencing hmm model training with parameters- Iterations: 30, components: 2\n",
      "model has converged\n",
      " \n",
      "[[0.66248678 0.33751322]\n",
      " [0.49836093 0.50163907]]\n",
      "[[0.07788276 0.39269907 0.52941818]\n",
      " [0.40823979 0.41537576 0.17638445]]\n",
      "[0.57223381 0.42776619]\n"
     ]
    }
   ],
   "source": [
    "        model = train_discrete_hmm(\n",
    "            seq,\n",
    "            lengths,\n",
    "            start_probability,\n",
    "            transition_probability,\n",
    "            emission_probability,\n",
    "            components=n_states,\n",
    "            iterations=30,\n",
    "            verbose=True,\n",
    "        )"
   ]
  },
  {
   "cell_type": "markdown",
   "id": "70d2ef4b",
   "metadata": {},
   "source": [
    "###### Given the model parameters and observed data, estimate the optimal sequence of hidden states."
   ]
  },
  {
   "cell_type": "code",
   "execution_count": 37,
   "id": "816edf30",
   "metadata": {},
   "outputs": [
    {
     "name": "stdout",
     "output_type": "stream",
     "text": [
      "Observed behaviour: walk, clean, shop, shop, clean, walk\n",
      "Inferred hidden states: Sunny, Rainy, Rainy, Rainy, Rainy, Sunny\n"
     ]
    },
    {
     "data": {
      "text/plain": [
       "(-8.800201673262634, array([1, 0, 0, 0, 0, 1], dtype=int32))"
      ]
     },
     "execution_count": 37,
     "metadata": {},
     "output_type": "execute_result"
    }
   ],
   "source": [
    "obs_states = np.array([[0, 2, 1, 1, 2, 0]]).T\n",
    "decode_hidden_state_for_discrete_hmm(obs_states, observations, states, model)\n"
   ]
  },
  {
   "cell_type": "markdown",
   "id": "021a28d5",
   "metadata": {},
   "source": [
    "### Regime Detection"
   ]
  },
  {
   "cell_type": "markdown",
   "id": "c1589930",
   "metadata": {},
   "source": [
    "The goal of the Hidden Markov Model will be to identify when the regime has switched from bullish to bearish and vice versa.\n",
    "\n",
    "The problem of Regime Detection is actually an unsupervised learning challenge since the number of states is not known a priori, nor is there any \"ground truth\" on which to \"train\" the HMM.\n",
    "\n",
    "In this section we will fit a Gaussian HMM to yahoo stock market data and then decode the hidden states (regimes) from the observed returns"
   ]
  },
  {
   "cell_type": "code",
   "execution_count": 79,
   "id": "2937daec",
   "metadata": {},
   "outputs": [],
   "source": [
    "import pandas_datareader.data as web\n",
    "\n",
    "def get_quotes_data_finance(start, end):\n",
    "\n",
    "    Stocks = web.DataReader('GE', 'yahoo', start=start, end=end) \n",
    "    Stocks.reset_index(inplace=True, drop=False)\n",
    "    return Stocks\n",
    "\n",
    "def process_and_plot_stocks_data(Stocks):\n",
    "    Stocks = Stocks.drop([\"Open\", \"High\", \"Low\", \"Adj Close\"], axis=1)\n",
    "    Stocks = list(Stocks.itertuples(index=False, name=None))\n",
    "    dates = np.array([q[0] for q in Stocks])\n",
    "    end_val = np.array([q[1] for q in Stocks])\n",
    "    volume = np.array([q[2] for q in Stocks])[1:]\n",
    "    diff = np.diff(end_val)\n",
    "    dates = dates[1:]\n",
    "    end_val = end_val[1:]\n",
    "    X = np.column_stack([diff, volume])\n",
    "    plt.figure(figsize=(15, 5), dpi=100)\n",
    "    plt.gca().xaxis.set_major_locator(YearLocator())\n",
    "    plt.plot_date(dates, end_val, \"-\")\n",
    "    plt.show()\n",
    "    return X, dates, end_val\n",
    "\n",
    "\n",
    "def train_gaussian_hmm(X, components=4, iter=1000):\n",
    "    model = GaussianHMM(\n",
    "        n_components=components, covariance_type=\"diag\", n_iter=iter\n",
    "    ).fit(X)\n",
    "    return model\n",
    "\n",
    "\n",
    "def compute_mean_and_vars_hidden_state(model):\n",
    "    for i in range(model.n_components):\n",
    "        print(\"{0}th hidden state\".format(i))\n",
    "        print(\"mean = \", model.means_[i])\n",
    "        print(\"var = \", np.diag(model.covars_[i]))\n",
    "\n",
    "def decode_hidden_states_time_series(X, model):\n",
    "    hidden_states = model.predict(X)\n",
    "    print(model.transmat_)\n",
    "    return hidden_states\n",
    "\n",
    "\n",
    "def plot_trained_parameters(model, hidden_states, dates, end_val, figsize):\n",
    "    fig, axs = plt.subplots(model.n_components, sharex=True, sharey=True, figsize=figsize)\n",
    "    colours = cm.rainbow(np.linspace(0, 1, model.n_components))\n",
    "    for i, (ax, colour) in enumerate(zip(axs, colours)):\n",
    "        # Use fancy indexing to plot data in each state.\n",
    "        mask = hidden_states == i\n",
    "        ax.plot_date(dates[mask], end_val[mask], \".-\", c=colour)\n",
    "        ax.set_title(\"{0}th hidden state\".format(i))\n",
    "\n",
    "        # Format the ticks.\n",
    "        ax.xaxis.set_major_locator(YearLocator())\n",
    "        ax.xaxis.set_minor_locator(MonthLocator())\n",
    "        ax.grid(True)\n",
    "    plt.show()\n"
   ]
  },
  {
   "cell_type": "markdown",
   "id": "3277ac52",
   "metadata": {},
   "source": [
    "Here the pandas_datareader library is used to fetch Yahoo Finance provides stock market data but has a rich source of stockd and shares data from various platforms. \n",
    "https://pandas-datareader.readthedocs.io/en/latest/remote_data.html"
   ]
  },
  {
   "cell_type": "code",
   "execution_count": 72,
   "id": "1f2f97a5",
   "metadata": {},
   "outputs": [
    {
     "data": {
      "text/html": [
       "<div>\n",
       "<style scoped>\n",
       "    .dataframe tbody tr th:only-of-type {\n",
       "        vertical-align: middle;\n",
       "    }\n",
       "\n",
       "    .dataframe tbody tr th {\n",
       "        vertical-align: top;\n",
       "    }\n",
       "\n",
       "    .dataframe thead th {\n",
       "        text-align: right;\n",
       "    }\n",
       "</style>\n",
       "<table border=\"1\" class=\"dataframe\">\n",
       "  <thead>\n",
       "    <tr style=\"text-align: right;\">\n",
       "      <th></th>\n",
       "      <th>Date</th>\n",
       "      <th>High</th>\n",
       "      <th>Low</th>\n",
       "      <th>Open</th>\n",
       "      <th>Close</th>\n",
       "      <th>Volume</th>\n",
       "      <th>Adj Close</th>\n",
       "    </tr>\n",
       "  </thead>\n",
       "  <tbody>\n",
       "    <tr>\n",
       "      <th>0</th>\n",
       "      <td>2003-07-01</td>\n",
       "      <td>221.538467</td>\n",
       "      <td>216.000000</td>\n",
       "      <td>219.076920</td>\n",
       "      <td>220.230774</td>\n",
       "      <td>2708576.0</td>\n",
       "      <td>130.003067</td>\n",
       "    </tr>\n",
       "    <tr>\n",
       "      <th>1</th>\n",
       "      <td>2003-07-02</td>\n",
       "      <td>222.153839</td>\n",
       "      <td>218.615387</td>\n",
       "      <td>221.692307</td>\n",
       "      <td>220.076920</td>\n",
       "      <td>2836535.0</td>\n",
       "      <td>129.912231</td>\n",
       "    </tr>\n",
       "    <tr>\n",
       "      <th>2</th>\n",
       "      <td>2003-07-03</td>\n",
       "      <td>221.538467</td>\n",
       "      <td>218.538467</td>\n",
       "      <td>220.153839</td>\n",
       "      <td>219.615387</td>\n",
       "      <td>1598311.0</td>\n",
       "      <td>129.639847</td>\n",
       "    </tr>\n",
       "    <tr>\n",
       "      <th>3</th>\n",
       "      <td>2003-07-07</td>\n",
       "      <td>226.923080</td>\n",
       "      <td>222.076920</td>\n",
       "      <td>222.538467</td>\n",
       "      <td>225.153839</td>\n",
       "      <td>2548741.0</td>\n",
       "      <td>132.909180</td>\n",
       "    </tr>\n",
       "    <tr>\n",
       "      <th>4</th>\n",
       "      <td>2003-07-08</td>\n",
       "      <td>225.153839</td>\n",
       "      <td>220.384613</td>\n",
       "      <td>225.153839</td>\n",
       "      <td>221.615387</td>\n",
       "      <td>2971813.0</td>\n",
       "      <td>130.820389</td>\n",
       "    </tr>\n",
       "    <tr>\n",
       "      <th>...</th>\n",
       "      <td>...</td>\n",
       "      <td>...</td>\n",
       "      <td>...</td>\n",
       "      <td>...</td>\n",
       "      <td>...</td>\n",
       "      <td>...</td>\n",
       "      <td>...</td>\n",
       "    </tr>\n",
       "    <tr>\n",
       "      <th>3521</th>\n",
       "      <td>2017-06-26</td>\n",
       "      <td>212.923080</td>\n",
       "      <td>211.538467</td>\n",
       "      <td>212.230774</td>\n",
       "      <td>212.384613</td>\n",
       "      <td>3705208.0</td>\n",
       "      <td>200.796585</td>\n",
       "    </tr>\n",
       "    <tr>\n",
       "      <th>3522</th>\n",
       "      <td>2017-06-27</td>\n",
       "      <td>212.230774</td>\n",
       "      <td>209.230774</td>\n",
       "      <td>211.692307</td>\n",
       "      <td>209.307693</td>\n",
       "      <td>5372822.0</td>\n",
       "      <td>197.887543</td>\n",
       "    </tr>\n",
       "    <tr>\n",
       "      <th>3523</th>\n",
       "      <td>2017-06-28</td>\n",
       "      <td>210.769226</td>\n",
       "      <td>208.076920</td>\n",
       "      <td>209.692307</td>\n",
       "      <td>208.307693</td>\n",
       "      <td>4032054.0</td>\n",
       "      <td>196.942123</td>\n",
       "    </tr>\n",
       "    <tr>\n",
       "      <th>3524</th>\n",
       "      <td>2017-06-29</td>\n",
       "      <td>210.846161</td>\n",
       "      <td>206.076920</td>\n",
       "      <td>208.923080</td>\n",
       "      <td>207.846161</td>\n",
       "      <td>4775173.0</td>\n",
       "      <td>196.505768</td>\n",
       "    </tr>\n",
       "    <tr>\n",
       "      <th>3525</th>\n",
       "      <td>2017-06-30</td>\n",
       "      <td>209.153839</td>\n",
       "      <td>207.000000</td>\n",
       "      <td>208.384613</td>\n",
       "      <td>207.769226</td>\n",
       "      <td>3413046.0</td>\n",
       "      <td>196.433014</td>\n",
       "    </tr>\n",
       "  </tbody>\n",
       "</table>\n",
       "<p>3526 rows × 7 columns</p>\n",
       "</div>"
      ],
      "text/plain": [
       "           Date        High         Low        Open       Close     Volume  \\\n",
       "0    2003-07-01  221.538467  216.000000  219.076920  220.230774  2708576.0   \n",
       "1    2003-07-02  222.153839  218.615387  221.692307  220.076920  2836535.0   \n",
       "2    2003-07-03  221.538467  218.538467  220.153839  219.615387  1598311.0   \n",
       "3    2003-07-07  226.923080  222.076920  222.538467  225.153839  2548741.0   \n",
       "4    2003-07-08  225.153839  220.384613  225.153839  221.615387  2971813.0   \n",
       "...         ...         ...         ...         ...         ...        ...   \n",
       "3521 2017-06-26  212.923080  211.538467  212.230774  212.384613  3705208.0   \n",
       "3522 2017-06-27  212.230774  209.230774  211.692307  209.307693  5372822.0   \n",
       "3523 2017-06-28  210.769226  208.076920  209.692307  208.307693  4032054.0   \n",
       "3524 2017-06-29  210.846161  206.076920  208.923080  207.846161  4775173.0   \n",
       "3525 2017-06-30  209.153839  207.000000  208.384613  207.769226  3413046.0   \n",
       "\n",
       "       Adj Close  \n",
       "0     130.003067  \n",
       "1     129.912231  \n",
       "2     129.639847  \n",
       "3     132.909180  \n",
       "4     130.820389  \n",
       "...          ...  \n",
       "3521  200.796585  \n",
       "3522  197.887543  \n",
       "3523  196.942123  \n",
       "3524  196.505768  \n",
       "3525  196.433014  \n",
       "\n",
       "[3526 rows x 7 columns]"
      ]
     },
     "execution_count": 72,
     "metadata": {},
     "output_type": "execute_result"
    }
   ],
   "source": [
    "\n",
    "start_date = datetime.date(2003, 7, 1)\n",
    "end_date = datetime.date(2017, 7, 1)\n",
    "\n",
    "stocks = get_quotes_data_finance(start_date, end_date)\n",
    "stocks"
   ]
  },
  {
   "cell_type": "code",
   "execution_count": 80,
   "id": "09c6c2ce",
   "metadata": {},
   "outputs": [
    {
     "data": {
      "image/png": "[encoded data removed]",
      "text/plain": [
       "<Figure size 1500x500 with 1 Axes>"
      ]
     },
     "metadata": {
      "needs_background": "light"
     },
     "output_type": "display_data"
    }
   ],
   "source": [
    "X, dates, end_val = process_and_plot_stocks_data(stocks)\n"
   ]
  },
  {
   "cell_type": "code",
   "execution_count": 75,
   "id": "a9f87a2d",
   "metadata": {},
   "outputs": [
    {
     "name": "stdout",
     "output_type": "stream",
     "text": [
      "[[8.85875761e-01 8.13717193e-02 3.18663765e-02 8.86143408e-04]\n",
      " [1.14742944e-01 8.40794729e-01 2.40352562e-03 4.20588016e-02]\n",
      " [4.35937774e-02 4.48711183e-03 9.51919111e-01 7.19217409e-26]\n",
      " [1.18347190e-15 1.54197875e-01 1.10787239e-69 8.45802125e-01]]\n"
     ]
    }
   ],
   "source": [
    "model = train_gaussian_hmm(X)\n",
    "hidden_states = decode_hidden_states_time_series(X, model)\n"
   ]
  },
  {
   "cell_type": "code",
   "execution_count": 76,
   "id": "f495c28f",
   "metadata": {},
   "outputs": [
    {
     "name": "stdout",
     "output_type": "stream",
     "text": [
      "0th hidden state\n",
      "mean =  [-3.54294052e-02  4.49445234e+06]\n",
      "var =  [3.54320070e+00 1.00824712e+12]\n",
      "1th hidden state\n",
      "mean =  [9.41509277e-02 8.23985729e+06]\n",
      "var =  [1.07192109e+01 5.19500718e+12]\n",
      "2th hidden state\n",
      "mean =  [6.11691408e-02 2.60713530e+06]\n",
      "var =  [4.46850650e+00 4.07108952e+11]\n",
      "3th hidden state\n",
      "mean =  [-4.21475153e-01  1.97435381e+07]\n",
      "var =  [3.95203321e+01 1.06884636e+14]\n"
     ]
    }
   ],
   "source": [
    "compute_mean_and_vars_hidden_state(model)"
   ]
  },
  {
   "cell_type": "code",
   "execution_count": 77,
   "id": "aba503ad",
   "metadata": {},
   "outputs": [
    {
     "data": {
      "image/png": "[encoded data removed]",
      "text/plain": [
       "<Figure size 1224x720 with 4 Axes>"
      ]
     },
     "metadata": {
      "needs_background": "light"
     },
     "output_type": "display_data"
    }
   ],
   "source": [
    "\n",
    "plot_trained_parameters(model, hidden_states, dates, end_val, (17,10))"
   ]
  },
  {
   "cell_type": "markdown",
   "id": "57f53ef0",
   "metadata": {},
   "source": [
    "### Markov Networks/Random fields"
   ]
  },
  {
   "cell_type": "code",
   "execution_count": 46,
   "id": "fd73f7e0",
   "metadata": {},
   "outputs": [
    {
     "data": {
      "text/html": [
       "\n",
       "        <iframe\n",
       "            width=\"500px\"\n",
       "            height=\"500px\"\n",
       "            src=\"outputs/markov_network.html\"\n",
       "            frameborder=\"0\"\n",
       "            allowfullscreen\n",
       "        ></iframe>\n",
       "        "
      ],
      "text/plain": [
       "<IPython.lib.display.IFrame at 0x7fc1d81577f0>"
      ]
     },
     "execution_count": 46,
     "metadata": {},
     "output_type": "execute_result"
    }
   ],
   "source": [
    "from pgmpy.models import MarkovNetwork\n",
    "from pgmpy.factors.discrete import DiscreteFactor\n",
    "student = MarkovNetwork([('Mary', 'Bob'), ('Bob', 'Will')])\n",
    "factor1 = DiscreteFactor(['Mary', 'Bob'], cardinality=[2, 2],\n",
    "                         values=np.random.rand(4))\n",
    "factor2 = DiscreteFactor(['Bob', 'Will'], cardinality=[2, 3],\n",
    "                         values=np.ones(6))\n",
    "student.add_factors(factor1,factor2)\n",
    "student.get_factors()\n",
    "\n",
    "nt = draw_network(student, \"red\", \"green\", notebook=True, physics=True, config=None)\n",
    "nt.show('outputs/markov_network.html')\n",
    "       "
   ]
  }
 ],
 "metadata": {
  "kernelspec": {
   "display_name": "Python (pgm)",
   "language": "python",
   "name": "bayes"
  },
  "language_info": {
   "codemirror_mode": {
    "name": "ipython",
    "version": 3
   },
   "file_extension": ".py",
   "mimetype": "text/x-python",
   "name": "python",
   "nbconvert_exporter": "python",
   "pygments_lexer": "ipython3",
   "version": "3.9.0"
  }
 },
 "nbformat": 4,
 "nbformat_minor": 5
}
